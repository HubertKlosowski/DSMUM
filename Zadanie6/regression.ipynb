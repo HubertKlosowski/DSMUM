{
 "cells": [
  {
   "metadata": {},
   "cell_type": "markdown",
   "source": [
    "### <center>Zadanie 6</center>\n",
    "\n",
    "Jakość powietrza w Ugandzie"
   ],
   "id": "afd52f0fcd60a049"
  },
  {
   "cell_type": "code",
   "id": "initial_id",
   "metadata": {
    "collapsed": true
   },
   "source": [
    "import os\n",
    "import warnings\n",
    "\n",
    "import lightgbm as lgb\n",
    "import matplotlib.pyplot as plt\n",
    "import numpy as np\n",
    "import optuna\n",
    "import pandas as pd\n",
    "import seaborn as sns\n",
    "from sklearn.ensemble import RandomForestRegressor, VotingRegressor\n",
    "from sklearn.experimental import enable_iterative_imputer  # noqa\n",
    "from sklearn.impute import IterativeImputer\n",
    "from sklearn.linear_model import LinearRegression\n",
    "from sklearn.metrics import root_mean_squared_error, r2_score, mean_absolute_error\n",
    "from sklearn.model_selection import train_test_split, cross_val_score, learning_curve, TimeSeriesSplit\n",
    "\n",
    "warnings.filterwarnings('ignore')"
   ],
   "outputs": [],
   "execution_count": null
  },
  {
   "metadata": {},
   "cell_type": "markdown",
   "source": "#### Wczytanie danych",
   "id": "a6ff94444eda2d03"
  },
  {
   "metadata": {},
   "cell_type": "code",
   "source": [
    "train = pd.read_csv(os.path.join('data', 'train.csv'))\n",
    "train.drop(columns=['ID', 'device'], inplace=True)\n",
    "\n",
    "train.info()"
   ],
   "id": "51389e37f6598c70",
   "outputs": [],
   "execution_count": null
  },
  {
   "metadata": {},
   "cell_type": "code",
   "source": "train.head()",
   "id": "b8bf35e122f6377d",
   "outputs": [],
   "execution_count": null
  },
  {
   "metadata": {},
   "cell_type": "markdown",
   "source": "#### Rozbicie daty na składowe",
   "id": "89edfed48bdf08ca"
  },
  {
   "metadata": {},
   "cell_type": "code",
   "source": [
    "train['date'] = pd.to_datetime(train['date'], format='%Y-%m-%d')\n",
    "train['year'] = train['date'].dt.year\n",
    "train['month'] = train['date'].dt.month\n",
    "train['dayofweek'] = train['date'].dt.dayofweek\n",
    "train = train.sort_values(by='date')\n",
    "\n",
    "train.drop(columns=['date'], inplace=True)"
   ],
   "id": "3649ed1eb8e6df51",
   "outputs": [],
   "execution_count": null
  },
  {
   "metadata": {},
   "cell_type": "markdown",
   "source": "#### Ilość brakujących wartości",
   "id": "2f7cd9cf11498503"
  },
  {
   "metadata": {},
   "cell_type": "code",
   "source": "train.isnull().sum().sort_values(ascending=False) / train.shape[0] * 100",
   "id": "3ed600ecd6c200d0",
   "outputs": [],
   "execution_count": null
  },
  {
   "metadata": {},
   "cell_type": "markdown",
   "source": "#### Usuń kolumny, które mają więcej niż 40% NaN",
   "id": "4a78b46ac94587f0"
  },
  {
   "metadata": {},
   "cell_type": "code",
   "source": [
    "to_many_nans = train.columns[train.isnull().sum() / train.shape[0] * 100 >= 40.0]\n",
    "train.drop(to_many_nans, axis=1, inplace=True)"
   ],
   "id": "d0bd4d224f3b55d7",
   "outputs": [],
   "execution_count": null
  },
  {
   "metadata": {},
   "cell_type": "markdown",
   "source": [
    "#### Uzupełnienie NaN przy wykorzystaniu mediany\n",
    "\n",
    "Dla każdej kolumny, która posiada braki zostaną one uzupełnione medianą."
   ],
   "id": "4406acfeee00f848"
  },
  {
   "metadata": {},
   "cell_type": "code",
   "source": [
    "X, y = train.drop(columns=['pm2_5']), train['pm2_5']\n",
    "\n",
    "imputer = IterativeImputer(random_state=42).fit(X)\n",
    "train_after_impute = imputer.transform(X)\n",
    "train[X.columns] = train_after_impute\n",
    "X = pd.DataFrame(train_after_impute, columns=X.columns)"
   ],
   "id": "736bb49d6493f395",
   "outputs": [],
   "execution_count": null
  },
  {
   "metadata": {},
   "cell_type": "markdown",
   "source": "#### Macierz korelacji dla całego zbioru",
   "id": "39cb3f19597f9504"
  },
  {
   "metadata": {},
   "cell_type": "code",
   "source": [
    "plt.figure(figsize=(20, 12))\n",
    "sns.heatmap(\n",
    "    X.corr(),\n",
    "    annot=False,\n",
    "    cmap='coolwarm',\n",
    "    linewidths=0.1,\n",
    "    linecolor='black',\n",
    "    square=True,\n",
    "    cbar=True,\n",
    "    xticklabels=True,\n",
    "    yticklabels=True\n",
    ")\n",
    "plt.title('Macierz korelacji dla zbioru treningowego', fontsize=16)\n",
    "plt.show()"
   ],
   "id": "4c7d3969f8e451c9",
   "outputs": [],
   "execution_count": null
  },
  {
   "metadata": {},
   "cell_type": "markdown",
   "source": "#### Usunięcie kolumn nisko skorelowanych z pm2_5",
   "id": "b399c572fb78f125"
  },
  {
   "metadata": {},
   "cell_type": "code",
   "source": [
    "def drop_low_correlated_columns_to_pm2_5():\n",
    "    corr = train.corr(numeric_only=True)['pm2_5'].to_frame()\n",
    "    return corr[(corr['pm2_5'] < 0.01) & (corr['pm2_5'] > -0.01)].index.to_numpy()\n",
    "\n",
    "low_correlated = drop_low_correlated_columns_to_pm2_5()\n",
    "X.drop(columns=low_correlated, inplace=True)\n",
    "\n",
    "low_correlated"
   ],
   "id": "b468c71a49e4dd25",
   "outputs": [],
   "execution_count": null
  },
  {
   "metadata": {},
   "cell_type": "markdown",
   "source": "#### Usunięcie kolumn wysoko skorelowanych z innymi",
   "id": "8bfe08e2195293eb"
  },
  {
   "metadata": {},
   "cell_type": "code",
   "source": [
    "def drop_high_correlated_columns():\n",
    "    matrix = X.corr(numeric_only=True).abs()\n",
    "    upper_t = matrix.where(np.triu(np.ones_like(matrix, dtype=np.bool_), k=1))\n",
    "    return [col for col in upper_t.columns if any(upper_t[col] > 0.99)]\n",
    "\n",
    "high_correlated = drop_high_correlated_columns()\n",
    "X.drop(columns=high_correlated, inplace=True)\n",
    "\n",
    "high_correlated"
   ],
   "id": "42255acfce3d2741",
   "outputs": [],
   "execution_count": null
  },
  {
   "metadata": {},
   "cell_type": "markdown",
   "source": [
    "#### <center>Wizualizacja danych</center>\n",
    "\n",
    "#### Rozkład wartości kolumny pm2_5"
   ],
   "id": "9d1ad9f11b354b7b"
  },
  {
   "metadata": {},
   "cell_type": "code",
   "source": [
    "plt.figure(figsize=(10, 6))\n",
    "sns.histplot(\n",
    "    x=y,\n",
    "    bins=50,\n",
    "    kde=True,\n",
    "    color='skyblue',\n",
    "    alpha=0.5,\n",
    "    line_kws={'linewidth': 2}\n",
    ")\n",
    "plt.xticks(range(0, 451, 50))\n",
    "plt.title('Rozkład wartości PM2.5', fontsize=16)\n",
    "plt.xlabel('Wartość PM2.5', fontsize=14)\n",
    "plt.ylabel('Liczebność', fontsize=14)"
   ],
   "id": "7688cfd84972aa98",
   "outputs": [],
   "execution_count": null
  },
  {
   "metadata": {},
   "cell_type": "markdown",
   "source": "#### <center>Proces nauki i testowania</center>",
   "id": "8dfba4a757c7aa32"
  },
  {
   "metadata": {},
   "cell_type": "code",
   "source": [
    "X_train, X_test, y_train, y_test = train_test_split(X, y, test_size=0.2, random_state=42)\n",
    "X_train = pd.DataFrame(X_train, columns=X.columns).reset_index(drop=True)\n",
    "X_test = pd.DataFrame(X_test, columns=X.columns).reset_index(drop=True)\n",
    "y_train = y_train.reset_index(drop=True)\n",
    "y_test = y_test.reset_index(drop=True)"
   ],
   "id": "69d3440b1a5221ef",
   "outputs": [],
   "execution_count": null
  },
  {
   "metadata": {},
   "cell_type": "markdown",
   "source": "#### Usunięcie outlierów przy wykorzystaniu metody z-score",
   "id": "5dd3c2acc19a286f"
  },
  {
   "metadata": {},
   "cell_type": "code",
   "source": [
    "pm2_5_std = y_train.std()\n",
    "pm2_5_mean = y_train.mean()\n",
    "\n",
    "detect_outliers = pd.DataFrame(data={'zscore': np.linspace(0, 5, 21), 'pm2_5': [(i * pm2_5_std) + pm2_5_mean for i in np.linspace(0, 5, 21)]})\n",
    "\n",
    "detect_outliers"
   ],
   "id": "c2ccddcc3cabde37",
   "outputs": [],
   "execution_count": null
  },
  {
   "metadata": {},
   "cell_type": "code",
   "source": [
    "outliers_indexes = y_train[y_train > 5 * pm2_5_std].index\n",
    "X_train.drop(index=outliers_indexes, inplace=True)\n",
    "y_train.drop(index=outliers_indexes, inplace=True)\n",
    "\n",
    "X_train.info()"
   ],
   "id": "f2891e1582e520ce",
   "outputs": [],
   "execution_count": null
  },
  {
   "metadata": {},
   "cell_type": "markdown",
   "source": "#### <center>Regresja liniowa</center>",
   "id": "856ffaf5cde7e44e"
  },
  {
   "metadata": {},
   "cell_type": "code",
   "source": [
    "linear = LinearRegression(n_jobs=-1).fit(X_train, y_train)\n",
    "linear_pred = linear.predict(X_test)\n",
    "\n",
    "root_mean_squared_error(y_test, linear_pred)"
   ],
   "id": "3ed181cea8c662ec",
   "outputs": [],
   "execution_count": null
  },
  {
   "metadata": {},
   "cell_type": "markdown",
   "source": "#### Inne metryki",
   "id": "2bf579cd81027b85"
  },
  {
   "metadata": {},
   "cell_type": "code",
   "source": "r2_score(y_test, linear_pred), mean_absolute_error(y_test, linear_pred)",
   "id": "162dd4fd224a4844",
   "outputs": [],
   "execution_count": null
  },
  {
   "metadata": {},
   "cell_type": "markdown",
   "source": "#### <center>Las losowy</center>",
   "id": "300db725f66464d0"
  },
  {
   "metadata": {},
   "cell_type": "code",
   "source": [
    "def define_rf(trial):\n",
    "    params = {\n",
    "        'n_estimators': trial.suggest_int('n_estimators', 80, 250),\n",
    "        'max_depth': trial.suggest_int('max_depth', 3, 15),\n",
    "        'min_samples_leaf': trial.suggest_int('min_samples_leaf', 5, 20),\n",
    "        'min_samples_split': trial.suggest_int('min_samples_split', 5, 20),\n",
    "        'min_impurity_decrease': trial.suggest_float('min_impurity_decrease', 1e-3, 1, log=True),\n",
    "        'random_state': 42,\n",
    "        'n_jobs': -1,\n",
    "        'criterion': 'squared_error',\n",
    "        'bootstrap': True,\n",
    "        'max_samples': trial.suggest_float('max_samples', 0.5, 1),\n",
    "    }\n",
    "    return RandomForestRegressor(**params)\n",
    "\n",
    "def objective_rf(trial):\n",
    "    model = define_rf(trial)\n",
    "    scores = cross_val_score(model, X_train, y_train, cv=TimeSeriesSplit(n_splits=5), n_jobs=-1, scoring='neg_root_mean_squared_error')\n",
    "    return scores.mean() * (-1)\n",
    "\n",
    "study_rf = optuna.create_study(direction='minimize', study_name='RegressionRandomForest', sampler=optuna.samplers.TPESampler(seed=42))\n",
    "study_rf.optimize(objective_rf, n_trials=100)"
   ],
   "id": "1c7ce238af18f74e",
   "outputs": [],
   "execution_count": null
  },
  {
   "metadata": {},
   "cell_type": "markdown",
   "source": "#### Wizualizacja hiperparametryzacji lasu losowego",
   "id": "29df67db5c85d2e0"
  },
  {
   "metadata": {},
   "cell_type": "code",
   "source": "optuna.visualization.plot_optimization_history(study_rf)",
   "id": "f6fe600479add990",
   "outputs": [],
   "execution_count": null
  },
  {
   "metadata": {},
   "cell_type": "code",
   "source": "optuna.visualization.plot_slice(study_rf)",
   "id": "17e667a018173b31",
   "outputs": [],
   "execution_count": null
  },
  {
   "metadata": {},
   "cell_type": "code",
   "source": "optuna.visualization.plot_param_importances(study_rf)",
   "id": "8e89c5d1443caee2",
   "outputs": [],
   "execution_count": null
  },
  {
   "metadata": {},
   "cell_type": "markdown",
   "source": "#### <center>LightGBM</center>",
   "id": "f815220e1629b4cc"
  },
  {
   "metadata": {},
   "cell_type": "code",
   "source": [
    "def define_lgb(trial):\n",
    "    params = {\n",
    "        'boosting_type': 'gbdt',\n",
    "        'num_leaves': trial.suggest_int('num_leaves', 30, 100),\n",
    "        'learning_rate': trial.suggest_float('learning_rate', 1e-3, 1, log=True),\n",
    "        'n_estimators': trial.suggest_int('n_estimators', 50, 200),\n",
    "        'min_split_gain': trial.suggest_float('min_split_gain', 0.01, 0.1),\n",
    "        'subsample': trial.suggest_float('subsample', 0.5, 0.9),\n",
    "        'reg_lambda': trial.suggest_float('reg_lambda', 0.1, 2),\n",
    "        'max_bin': trial.suggest_int('max_bin', 64, 256),\n",
    "        'random_state': 42,\n",
    "        'n_jobs': -1,\n",
    "        'verbose': -1,\n",
    "    }\n",
    "    return lgb.LGBMRegressor(**params)\n",
    "\n",
    "def objective_lgb(trial):\n",
    "    model = define_lgb(trial)\n",
    "    scores = cross_val_score(model, X_train, y_train, cv=TimeSeriesSplit(n_splits=5), n_jobs=-1, scoring='neg_root_mean_squared_error')\n",
    "    return scores.mean() * (-1)\n",
    "\n",
    "study_lgb = optuna.create_study(direction='minimize', study_name='RegressionLightGBM', sampler=optuna.samplers.TPESampler())\n",
    "study_lgb.optimize(objective_lgb, n_trials=100)"
   ],
   "id": "14969ec2a32df625",
   "outputs": [],
   "execution_count": null
  },
  {
   "metadata": {},
   "cell_type": "markdown",
   "source": "#### Wizualizacja hiperparametryzacji LightGBM",
   "id": "cb178c7dac31349e"
  },
  {
   "metadata": {},
   "cell_type": "code",
   "source": "optuna.visualization.plot_optimization_history(study_lgb)",
   "id": "993650ff29200f91",
   "outputs": [],
   "execution_count": null
  },
  {
   "metadata": {},
   "cell_type": "code",
   "source": "optuna.visualization.plot_slice(study_lgb)",
   "id": "55744a886d2e5995",
   "outputs": [],
   "execution_count": null
  },
  {
   "metadata": {},
   "cell_type": "code",
   "source": "optuna.visualization.plot_param_importances(study_lgb)",
   "id": "983d4d69e74c57fe",
   "outputs": [],
   "execution_count": null
  },
  {
   "metadata": {},
   "cell_type": "markdown",
   "source": "#### Wybrane modele",
   "id": "97f56d893c80c6ac"
  },
  {
   "metadata": {},
   "cell_type": "code",
   "source": [
    "rf = define_rf(study_rf.best_trial)\n",
    "rf.fit(X_train, y_train)\n",
    "rf_pred = rf.predict(X_test)\n",
    "\n",
    "root_mean_squared_error(y_test, rf_pred)"
   ],
   "id": "1e86b74d327e029d",
   "outputs": [],
   "execution_count": null
  },
  {
   "metadata": {},
   "cell_type": "markdown",
   "source": "#### Inne metryki",
   "id": "96af6ff66cbe631d"
  },
  {
   "metadata": {},
   "cell_type": "code",
   "source": "(r2_score(y_test, rf_pred), mean_absolute_error(y_test, rf_pred))",
   "id": "a0a422da3c50bc1a",
   "outputs": [],
   "execution_count": null
  },
  {
   "metadata": {},
   "cell_type": "markdown",
   "source": "#### Istotność cech dla lasu losowego",
   "id": "6c050950b718c158"
  },
  {
   "metadata": {},
   "cell_type": "code",
   "source": [
    "importance = pd.DataFrame(\n",
    "    data={\n",
    "        'feature': rf.feature_names_in_,\n",
    "        'importance': rf.feature_importances_\n",
    "    }\n",
    ").sort_values(by='importance', ascending=False).head(10)\n",
    "\n",
    "plt.barh(\n",
    "    importance['feature'],\n",
    "    importance['importance']\n",
    ")\n",
    "plt.title('Istotność cech dla lasu losowego', fontsize=16)\n",
    "plt.xlabel('Wartość istotności', fontsize=14)\n",
    "plt.ylabel('Nazwa cechy', fontsize=14)\n",
    "plt.show()"
   ],
   "id": "5a5ad88550f26ca",
   "outputs": [],
   "execution_count": null
  },
  {
   "metadata": {},
   "cell_type": "code",
   "source": [
    "lightgbm = define_lgb(study_lgb.best_trial)\n",
    "lightgbm.fit(X_train, y_train)\n",
    "lightgbm_pred = lightgbm.predict(X_test)\n",
    "\n",
    "root_mean_squared_error(y_test, lightgbm_pred)"
   ],
   "id": "dfe07e92d361ff54",
   "outputs": [],
   "execution_count": null
  },
  {
   "metadata": {},
   "cell_type": "markdown",
   "source": "#### Inne metryki",
   "id": "372693855e53b4c0"
  },
  {
   "metadata": {},
   "cell_type": "code",
   "source": "(r2_score(y_test, lightgbm_pred), mean_absolute_error(y_test, lightgbm_pred))",
   "id": "a3d96eb235ca61bd",
   "outputs": [],
   "execution_count": null
  },
  {
   "metadata": {},
   "cell_type": "markdown",
   "source": "#### Istotnosć cech dla LightGBM",
   "id": "190e75e5358ca3ff"
  },
  {
   "metadata": {},
   "cell_type": "code",
   "source": [
    "importance = pd.DataFrame(\n",
    "    data={\n",
    "        'feature': lightgbm.feature_name_,\n",
    "        'importance': lightgbm.feature_importances_\n",
    "    }\n",
    ").sort_values(by='importance', ascending=False).head(10)\n",
    "\n",
    "plt.barh(\n",
    "    importance['feature'],\n",
    "    importance['importance']\n",
    ")\n",
    "plt.title('Istotność cech dla LightGBM', fontsize=16)\n",
    "plt.xlabel('Wartość istotności', fontsize=14)\n",
    "plt.ylabel('Nazwa cechy', fontsize=14)\n",
    "plt.show()"
   ],
   "id": "f6cab1074797f5a1",
   "outputs": [],
   "execution_count": null
  },
  {
   "metadata": {},
   "cell_type": "markdown",
   "source": [
    "#### Voting\n",
    "\n",
    "Polega na uśrednianiu wyników zwróconych przez modele składowe w celu uzyskania bardziej stabilnych i dokładnych predykcji."
   ],
   "id": "69c7adfc17778759"
  },
  {
   "metadata": {},
   "cell_type": "code",
   "source": [
    "voting = VotingRegressor(\n",
    "    estimators=[\n",
    "        ('randomforest', rf),\n",
    "        ('lightgbm', lightgbm)\n",
    "    ],\n",
    "    n_jobs=-1\n",
    ").fit(X_train, y_train)\n",
    "\n",
    "voting_pred = voting.predict(X_test)\n",
    "\n",
    "root_mean_squared_error(y_test, voting_pred)"
   ],
   "id": "fc0df193d1a39f68",
   "outputs": [],
   "execution_count": null
  },
  {
   "metadata": {},
   "cell_type": "markdown",
   "source": "#### Inne metryki",
   "id": "e7e23a1565d4dbd2"
  },
  {
   "metadata": {},
   "cell_type": "code",
   "source": "(r2_score(y_test, voting_pred), mean_absolute_error(y_test, voting_pred))",
   "id": "a5892fb3f352c152",
   "outputs": [],
   "execution_count": null
  },
  {
   "metadata": {},
   "cell_type": "markdown",
   "source": "#### <center>Krzywe uczenia</center>",
   "id": "d9be35cf78df05a8"
  },
  {
   "metadata": {},
   "cell_type": "code",
   "source": [
    "fig, ax = plt.subplots(nrows=2, ncols=2, figsize=(12, 20))\n",
    "\n",
    "\n",
    "voting.fit(X, y)\n",
    "\n",
    "plt.suptitle('Krzywe uczenia dla wybranych regresorów', fontsize=16, fontweight='bold')\n",
    "models = [\n",
    "    voting,\n",
    "    rf,\n",
    "    lightgbm,\n",
    "    linear\n",
    "]\n",
    "titles = ['Voting', 'Las losowy' , 'LightGBM', 'Regresja liniowa']\n",
    "for i in range(len(titles)):\n",
    "    xc, yc = divmod(i, 2)\n",
    "    tss = TimeSeriesSplit(n_splits=5)\n",
    "    train_size, train_scores, test_scores = learning_curve(\n",
    "        estimator=models[i],\n",
    "        X=X,\n",
    "        y=y,\n",
    "        cv=tss,\n",
    "        train_sizes=np.linspace(0.1, 1, 10),\n",
    "        scoring='neg_root_mean_squared_error',\n",
    "        n_jobs=-1\n",
    "    )\n",
    "    train_scores_mean = -1 * np.mean(train_scores, axis=1)\n",
    "    test_scores_mean = -1 * np.mean(test_scores, axis=1)\n",
    "    ax[xc, yc].plot(train_size, train_scores_mean, 'o-', color='skyblue', label='Train')\n",
    "    ax[xc, yc].plot(train_size, test_scores_mean, 'o-', color='orange', label='Test')\n",
    "    ax[xc, yc].legend(loc='best')\n",
    "    ax[xc, yc].grid(True)\n",
    "    ax[xc, yc].set_title(titles[i], fontsize=16, pad=10)\n",
    "    ax[xc, yc].set_ylabel('Wartość RMSE')\n",
    "    ax[xc, yc].set_xlabel('Liczba obserwacji z zbioru treningowego' if yc == 1 else '')\n",
    "\n",
    "plt.tight_layout(rect=[0, 0, 1, 0.97])\n",
    "plt.show()"
   ],
   "id": "310c40fe44bf19bf",
   "outputs": [],
   "execution_count": null
  }
 ],
 "metadata": {
  "kernelspec": {
   "display_name": "Python 3",
   "language": "python",
   "name": "python3"
  },
  "language_info": {
   "codemirror_mode": {
    "name": "ipython",
    "version": 2
   },
   "file_extension": ".py",
   "mimetype": "text/x-python",
   "name": "python",
   "nbconvert_exporter": "python",
   "pygments_lexer": "ipython2",
   "version": "2.7.6"
  }
 },
 "nbformat": 4,
 "nbformat_minor": 5
}
