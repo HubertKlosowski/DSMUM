{
 "cells": [
  {
   "cell_type": "code",
   "id": "initial_id",
   "metadata": {
    "collapsed": true,
    "ExecuteTime": {
     "end_time": "2025-03-30T14:56:43.141408Z",
     "start_time": "2025-03-30T14:56:42.499605Z"
    }
   },
   "source": "import pandas as pd",
   "outputs": [],
   "execution_count": 1
  },
  {
   "metadata": {
    "ExecuteTime": {
     "end_time": "2025-03-30T14:56:43.164961Z",
     "start_time": "2025-03-30T14:56:43.148929Z"
    }
   },
   "cell_type": "code",
   "source": [
    "obesity = pd.read_csv('ObesityDataSet.csv')\n",
    "\n",
    "obesity.info()"
   ],
   "id": "b23af1e852af6e8a",
   "outputs": [],
   "execution_count": 2
  },
  {
   "metadata": {
    "ExecuteTime": {
     "end_time": "2025-03-30T14:57:13.962082Z",
     "start_time": "2025-03-30T14:57:13.938344Z"
    }
   },
   "cell_type": "code",
   "source": "obesity.head()",
   "id": "4c773e0ebd517813",
   "outputs": [
    {
     "data": {
      "text/plain": [
       "   Gender   Age  Height  Weight family_history_with_overweight FAVC  FCVC  \\\n",
       "0  Female  21.0    1.62    64.0                            yes   no   2.0   \n",
       "1  Female  21.0    1.52    56.0                            yes   no   3.0   \n",
       "2    Male  23.0    1.80    77.0                            yes   no   2.0   \n",
       "3    Male  27.0    1.80    87.0                             no   no   3.0   \n",
       "4    Male  22.0    1.78    89.8                             no   no   2.0   \n",
       "\n",
       "   NCP       CAEC SMOKE  CH2O  SCC  FAF  TUE        CALC  \\\n",
       "0  3.0  Sometimes    no   2.0   no  0.0  1.0          no   \n",
       "1  3.0  Sometimes   yes   3.0  yes  3.0  0.0   Sometimes   \n",
       "2  3.0  Sometimes    no   2.0   no  2.0  1.0  Frequently   \n",
       "3  3.0  Sometimes    no   2.0   no  2.0  0.0  Frequently   \n",
       "4  1.0  Sometimes    no   2.0   no  0.0  0.0   Sometimes   \n",
       "\n",
       "                  MTRANS           NObeyesdad  \n",
       "0  Public_Transportation        Normal_Weight  \n",
       "1  Public_Transportation        Normal_Weight  \n",
       "2  Public_Transportation        Normal_Weight  \n",
       "3                Walking   Overweight_Level_I  \n",
       "4  Public_Transportation  Overweight_Level_II  "
      ],
      "text/html": [
       "<div>\n",
       "<style scoped>\n",
       "    .dataframe tbody tr th:only-of-type {\n",
       "        vertical-align: middle;\n",
       "    }\n",
       "\n",
       "    .dataframe tbody tr th {\n",
       "        vertical-align: top;\n",
       "    }\n",
       "\n",
       "    .dataframe thead th {\n",
       "        text-align: right;\n",
       "    }\n",
       "</style>\n",
       "<table border=\"1\" class=\"dataframe\">\n",
       "  <thead>\n",
       "    <tr style=\"text-align: right;\">\n",
       "      <th></th>\n",
       "      <th>Gender</th>\n",
       "      <th>Age</th>\n",
       "      <th>Height</th>\n",
       "      <th>Weight</th>\n",
       "      <th>family_history_with_overweight</th>\n",
       "      <th>FAVC</th>\n",
       "      <th>FCVC</th>\n",
       "      <th>NCP</th>\n",
       "      <th>CAEC</th>\n",
       "      <th>SMOKE</th>\n",
       "      <th>CH2O</th>\n",
       "      <th>SCC</th>\n",
       "      <th>FAF</th>\n",
       "      <th>TUE</th>\n",
       "      <th>CALC</th>\n",
       "      <th>MTRANS</th>\n",
       "      <th>NObeyesdad</th>\n",
       "    </tr>\n",
       "  </thead>\n",
       "  <tbody>\n",
       "    <tr>\n",
       "      <th>0</th>\n",
       "      <td>Female</td>\n",
       "      <td>21.0</td>\n",
       "      <td>1.62</td>\n",
       "      <td>64.0</td>\n",
       "      <td>yes</td>\n",
       "      <td>no</td>\n",
       "      <td>2.0</td>\n",
       "      <td>3.0</td>\n",
       "      <td>Sometimes</td>\n",
       "      <td>no</td>\n",
       "      <td>2.0</td>\n",
       "      <td>no</td>\n",
       "      <td>0.0</td>\n",
       "      <td>1.0</td>\n",
       "      <td>no</td>\n",
       "      <td>Public_Transportation</td>\n",
       "      <td>Normal_Weight</td>\n",
       "    </tr>\n",
       "    <tr>\n",
       "      <th>1</th>\n",
       "      <td>Female</td>\n",
       "      <td>21.0</td>\n",
       "      <td>1.52</td>\n",
       "      <td>56.0</td>\n",
       "      <td>yes</td>\n",
       "      <td>no</td>\n",
       "      <td>3.0</td>\n",
       "      <td>3.0</td>\n",
       "      <td>Sometimes</td>\n",
       "      <td>yes</td>\n",
       "      <td>3.0</td>\n",
       "      <td>yes</td>\n",
       "      <td>3.0</td>\n",
       "      <td>0.0</td>\n",
       "      <td>Sometimes</td>\n",
       "      <td>Public_Transportation</td>\n",
       "      <td>Normal_Weight</td>\n",
       "    </tr>\n",
       "    <tr>\n",
       "      <th>2</th>\n",
       "      <td>Male</td>\n",
       "      <td>23.0</td>\n",
       "      <td>1.80</td>\n",
       "      <td>77.0</td>\n",
       "      <td>yes</td>\n",
       "      <td>no</td>\n",
       "      <td>2.0</td>\n",
       "      <td>3.0</td>\n",
       "      <td>Sometimes</td>\n",
       "      <td>no</td>\n",
       "      <td>2.0</td>\n",
       "      <td>no</td>\n",
       "      <td>2.0</td>\n",
       "      <td>1.0</td>\n",
       "      <td>Frequently</td>\n",
       "      <td>Public_Transportation</td>\n",
       "      <td>Normal_Weight</td>\n",
       "    </tr>\n",
       "    <tr>\n",
       "      <th>3</th>\n",
       "      <td>Male</td>\n",
       "      <td>27.0</td>\n",
       "      <td>1.80</td>\n",
       "      <td>87.0</td>\n",
       "      <td>no</td>\n",
       "      <td>no</td>\n",
       "      <td>3.0</td>\n",
       "      <td>3.0</td>\n",
       "      <td>Sometimes</td>\n",
       "      <td>no</td>\n",
       "      <td>2.0</td>\n",
       "      <td>no</td>\n",
       "      <td>2.0</td>\n",
       "      <td>0.0</td>\n",
       "      <td>Frequently</td>\n",
       "      <td>Walking</td>\n",
       "      <td>Overweight_Level_I</td>\n",
       "    </tr>\n",
       "    <tr>\n",
       "      <th>4</th>\n",
       "      <td>Male</td>\n",
       "      <td>22.0</td>\n",
       "      <td>1.78</td>\n",
       "      <td>89.8</td>\n",
       "      <td>no</td>\n",
       "      <td>no</td>\n",
       "      <td>2.0</td>\n",
       "      <td>1.0</td>\n",
       "      <td>Sometimes</td>\n",
       "      <td>no</td>\n",
       "      <td>2.0</td>\n",
       "      <td>no</td>\n",
       "      <td>0.0</td>\n",
       "      <td>0.0</td>\n",
       "      <td>Sometimes</td>\n",
       "      <td>Public_Transportation</td>\n",
       "      <td>Overweight_Level_II</td>\n",
       "    </tr>\n",
       "  </tbody>\n",
       "</table>\n",
       "</div>"
      ]
     },
     "execution_count": 4,
     "metadata": {},
     "output_type": "execute_result"
    }
   ],
   "execution_count": 4
  },
  {
   "metadata": {
    "ExecuteTime": {
     "end_time": "2025-03-30T14:59:14.187258Z",
     "start_time": "2025-03-30T14:59:14.179221Z"
    }
   },
   "cell_type": "code",
   "source": [
    "for col in obesity.select_dtypes(include='object').columns:\n",
    "    print(obesity[col].value_counts())\n",
    "    print()"
   ],
   "id": "97f4242a3734e839",
   "outputs": [
    {
     "name": "stdout",
     "output_type": "stream",
     "text": [
      "Gender\n",
      "Male      1068\n",
      "Female    1043\n",
      "Name: count, dtype: int64\n",
      "\n",
      "family_history_with_overweight\n",
      "yes    1726\n",
      "no      385\n",
      "Name: count, dtype: int64\n",
      "\n",
      "FAVC\n",
      "yes    1866\n",
      "no      245\n",
      "Name: count, dtype: int64\n",
      "\n",
      "CAEC\n",
      "Sometimes     1765\n",
      "Frequently     242\n",
      "Always          53\n",
      "no              51\n",
      "Name: count, dtype: int64\n",
      "\n",
      "SMOKE\n",
      "no     2067\n",
      "yes      44\n",
      "Name: count, dtype: int64\n",
      "\n",
      "SCC\n",
      "no     2015\n",
      "yes      96\n",
      "Name: count, dtype: int64\n",
      "\n",
      "CALC\n",
      "Sometimes     1401\n",
      "no             639\n",
      "Frequently      70\n",
      "Always           1\n",
      "Name: count, dtype: int64\n",
      "\n",
      "MTRANS\n",
      "Public_Transportation    1580\n",
      "Automobile                457\n",
      "Walking                    56\n",
      "Motorbike                  11\n",
      "Bike                        7\n",
      "Name: count, dtype: int64\n",
      "\n",
      "NObeyesdad\n",
      "Obesity_Type_I         351\n",
      "Obesity_Type_III       324\n",
      "Obesity_Type_II        297\n",
      "Overweight_Level_I     290\n",
      "Overweight_Level_II    290\n",
      "Normal_Weight          287\n",
      "Insufficient_Weight    272\n",
      "Name: count, dtype: int64\n",
      "\n"
     ]
    }
   ],
   "execution_count": 8
  },
  {
   "metadata": {
    "ExecuteTime": {
     "end_time": "2025-03-30T15:06:01.584791Z",
     "start_time": "2025-03-30T15:06:01.572506Z"
    }
   },
   "cell_type": "code",
   "source": [
    "crabs = pd.read_csv('CrabAgePrediction.csv')\n",
    "\n",
    "crabs.info()"
   ],
   "id": "aac1a4bb5085a0f5",
   "outputs": [
    {
     "name": "stdout",
     "output_type": "stream",
     "text": [
      "<class 'pandas.core.frame.DataFrame'>\n",
      "RangeIndex: 3893 entries, 0 to 3892\n",
      "Data columns (total 9 columns):\n",
      " #   Column          Non-Null Count  Dtype  \n",
      "---  ------          --------------  -----  \n",
      " 0   Sex             3893 non-null   object \n",
      " 1   Length          3893 non-null   float64\n",
      " 2   Diameter        3893 non-null   float64\n",
      " 3   Height          3893 non-null   float64\n",
      " 4   Weight          3893 non-null   float64\n",
      " 5   Shucked Weight  3893 non-null   float64\n",
      " 6   Viscera Weight  3893 non-null   float64\n",
      " 7   Shell Weight    3893 non-null   float64\n",
      " 8   Age             3893 non-null   int64  \n",
      "dtypes: float64(7), int64(1), object(1)\n",
      "memory usage: 273.9+ KB\n"
     ]
    }
   ],
   "execution_count": 10
  },
  {
   "metadata": {
    "ExecuteTime": {
     "end_time": "2025-03-30T15:06:28.869477Z",
     "start_time": "2025-03-30T15:06:28.356191Z"
    }
   },
   "cell_type": "code",
   "source": "crabs.Age.plot(kind='hist')",
   "id": "7bbc663eeacdd7ad",
   "outputs": [
    {
     "data": {
      "text/plain": [
       "<Axes: ylabel='Frequency'>"
      ]
     },
     "execution_count": 11,
     "metadata": {},
     "output_type": "execute_result"
    },
    {
     "data": {
      "text/plain": [
       "<Figure size 640x480 with 1 Axes>"
      ],
      "image/png": "[encoded data removed]"
     },
     "metadata": {},
     "output_type": "display_data"
    }
   ],
   "execution_count": 11
  },
  {
   "metadata": {
    "ExecuteTime": {
     "end_time": "2025-03-30T15:10:14.945905Z",
     "start_time": "2025-03-30T15:10:14.928878Z"
    }
   },
   "cell_type": "code",
   "source": [
    "cars = pd.read_csv('used_cars.csv')\n",
    "\n",
    "cars.info()"
   ],
   "id": "996d8ff6830445bc",
   "outputs": [
    {
     "name": "stdout",
     "output_type": "stream",
     "text": [
      "<class 'pandas.core.frame.DataFrame'>\n",
      "RangeIndex: 4009 entries, 0 to 4008\n",
      "Data columns (total 12 columns):\n",
      " #   Column        Non-Null Count  Dtype \n",
      "---  ------        --------------  ----- \n",
      " 0   brand         4009 non-null   object\n",
      " 1   model         4009 non-null   object\n",
      " 2   model_year    4009 non-null   int64 \n",
      " 3   milage        4009 non-null   object\n",
      " 4   fuel_type     3839 non-null   object\n",
      " 5   engine        4009 non-null   object\n",
      " 6   transmission  4009 non-null   object\n",
      " 7   ext_col       4009 non-null   object\n",
      " 8   int_col       4009 non-null   object\n",
      " 9   accident      3896 non-null   object\n",
      " 10  clean_title   3413 non-null   object\n",
      " 11  price         4009 non-null   object\n",
      "dtypes: int64(1), object(11)\n",
      "memory usage: 376.0+ KB\n"
     ]
    }
   ],
   "execution_count": 20
  },
  {
   "metadata": {
    "ExecuteTime": {
     "end_time": "2025-03-30T15:10:15.740734Z",
     "start_time": "2025-03-30T15:10:15.732716Z"
    }
   },
   "cell_type": "code",
   "source": "cars.head()",
   "id": "25591b61f22e01c0",
   "outputs": [
    {
     "data": {
      "text/plain": [
       "      brand                            model  model_year      milage  \\\n",
       "0      Ford  Utility Police Interceptor Base        2013  51,000 mi.   \n",
       "1   Hyundai                     Palisade SEL        2021  34,742 mi.   \n",
       "2     Lexus                    RX 350 RX 350        2022  22,372 mi.   \n",
       "3  INFINITI                 Q50 Hybrid Sport        2015  88,900 mi.   \n",
       "4      Audi        Q3 45 S line Premium Plus        2021   9,835 mi.   \n",
       "\n",
       "       fuel_type                                             engine  \\\n",
       "0  E85 Flex Fuel  300.0HP 3.7L V6 Cylinder Engine Flex Fuel Capa...   \n",
       "1       Gasoline                               3.8L V6 24V GDI DOHC   \n",
       "2       Gasoline                                     3.5 Liter DOHC   \n",
       "3         Hybrid  354.0HP 3.5L V6 Cylinder Engine Gas/Electric H...   \n",
       "4       Gasoline                         2.0L I4 16V GDI DOHC Turbo   \n",
       "\n",
       "        transmission                 ext_col int_col  \\\n",
       "0        6-Speed A/T                   Black   Black   \n",
       "1  8-Speed Automatic         Moonlight Cloud    Gray   \n",
       "2          Automatic                    Blue   Black   \n",
       "3        7-Speed A/T                   Black   Black   \n",
       "4  8-Speed Automatic  Glacier White Metallic   Black   \n",
       "\n",
       "                                 accident clean_title    price  \n",
       "0  At least 1 accident or damage reported         Yes  $10,300  \n",
       "1  At least 1 accident or damage reported         Yes  $38,005  \n",
       "2                           None reported         NaN  $54,598  \n",
       "3                           None reported         Yes  $15,500  \n",
       "4                           None reported         NaN  $34,999  "
      ],
      "text/html": [
       "<div>\n",
       "<style scoped>\n",
       "    .dataframe tbody tr th:only-of-type {\n",
       "        vertical-align: middle;\n",
       "    }\n",
       "\n",
       "    .dataframe tbody tr th {\n",
       "        vertical-align: top;\n",
       "    }\n",
       "\n",
       "    .dataframe thead th {\n",
       "        text-align: right;\n",
       "    }\n",
       "</style>\n",
       "<table border=\"1\" class=\"dataframe\">\n",
       "  <thead>\n",
       "    <tr style=\"text-align: right;\">\n",
       "      <th></th>\n",
       "      <th>brand</th>\n",
       "      <th>model</th>\n",
       "      <th>model_year</th>\n",
       "      <th>milage</th>\n",
       "      <th>fuel_type</th>\n",
       "      <th>engine</th>\n",
       "      <th>transmission</th>\n",
       "      <th>ext_col</th>\n",
       "      <th>int_col</th>\n",
       "      <th>accident</th>\n",
       "      <th>clean_title</th>\n",
       "      <th>price</th>\n",
       "    </tr>\n",
       "  </thead>\n",
       "  <tbody>\n",
       "    <tr>\n",
       "      <th>0</th>\n",
       "      <td>Ford</td>\n",
       "      <td>Utility Police Interceptor Base</td>\n",
       "      <td>2013</td>\n",
       "      <td>51,000 mi.</td>\n",
       "      <td>E85 Flex Fuel</td>\n",
       "      <td>300.0HP 3.7L V6 Cylinder Engine Flex Fuel Capa...</td>\n",
       "      <td>6-Speed A/T</td>\n",
       "      <td>Black</td>\n",
       "      <td>Black</td>\n",
       "      <td>At least 1 accident or damage reported</td>\n",
       "      <td>Yes</td>\n",
       "      <td>$10,300</td>\n",
       "    </tr>\n",
       "    <tr>\n",
       "      <th>1</th>\n",
       "      <td>Hyundai</td>\n",
       "      <td>Palisade SEL</td>\n",
       "      <td>2021</td>\n",
       "      <td>34,742 mi.</td>\n",
       "      <td>Gasoline</td>\n",
       "      <td>3.8L V6 24V GDI DOHC</td>\n",
       "      <td>8-Speed Automatic</td>\n",
       "      <td>Moonlight Cloud</td>\n",
       "      <td>Gray</td>\n",
       "      <td>At least 1 accident or damage reported</td>\n",
       "      <td>Yes</td>\n",
       "      <td>$38,005</td>\n",
       "    </tr>\n",
       "    <tr>\n",
       "      <th>2</th>\n",
       "      <td>Lexus</td>\n",
       "      <td>RX 350 RX 350</td>\n",
       "      <td>2022</td>\n",
       "      <td>22,372 mi.</td>\n",
       "      <td>Gasoline</td>\n",
       "      <td>3.5 Liter DOHC</td>\n",
       "      <td>Automatic</td>\n",
       "      <td>Blue</td>\n",
       "      <td>Black</td>\n",
       "      <td>None reported</td>\n",
       "      <td>NaN</td>\n",
       "      <td>$54,598</td>\n",
       "    </tr>\n",
       "    <tr>\n",
       "      <th>3</th>\n",
       "      <td>INFINITI</td>\n",
       "      <td>Q50 Hybrid Sport</td>\n",
       "      <td>2015</td>\n",
       "      <td>88,900 mi.</td>\n",
       "      <td>Hybrid</td>\n",
       "      <td>354.0HP 3.5L V6 Cylinder Engine Gas/Electric H...</td>\n",
       "      <td>7-Speed A/T</td>\n",
       "      <td>Black</td>\n",
       "      <td>Black</td>\n",
       "      <td>None reported</td>\n",
       "      <td>Yes</td>\n",
       "      <td>$15,500</td>\n",
       "    </tr>\n",
       "    <tr>\n",
       "      <th>4</th>\n",
       "      <td>Audi</td>\n",
       "      <td>Q3 45 S line Premium Plus</td>\n",
       "      <td>2021</td>\n",
       "      <td>9,835 mi.</td>\n",
       "      <td>Gasoline</td>\n",
       "      <td>2.0L I4 16V GDI DOHC Turbo</td>\n",
       "      <td>8-Speed Automatic</td>\n",
       "      <td>Glacier White Metallic</td>\n",
       "      <td>Black</td>\n",
       "      <td>None reported</td>\n",
       "      <td>NaN</td>\n",
       "      <td>$34,999</td>\n",
       "    </tr>\n",
       "  </tbody>\n",
       "</table>\n",
       "</div>"
      ]
     },
     "execution_count": 21,
     "metadata": {},
     "output_type": "execute_result"
    }
   ],
   "execution_count": 21
  },
  {
   "metadata": {},
   "cell_type": "code",
   "source": [
    "cars.price = cars.price.str.replace('$','')\n",
    "cars.price = cars.price.str.replace(',','')\n",
    "cars.price = cars.price.astype(float)"
   ],
   "id": "c5ee5834ddfd01c4",
   "outputs": [],
   "execution_count": null
  },
  {
   "metadata": {
    "ExecuteTime": {
     "end_time": "2025-03-30T15:10:24.594056Z",
     "start_time": "2025-03-30T15:10:24.493151Z"
    }
   },
   "cell_type": "code",
   "source": "cars.price.plot(kind='hist')",
   "id": "5d645532fc2e53c4",
   "outputs": [
    {
     "data": {
      "text/plain": [
       "<Axes: ylabel='Frequency'>"
      ]
     },
     "execution_count": 23,
     "metadata": {},
     "output_type": "execute_result"
    },
    {
     "data": {
      "text/plain": [
       "<Figure size 640x480 with 1 Axes>"
      ],
      "image/png": "[encoded data removed]"
     },
     "metadata": {},
     "output_type": "display_data"
    }
   ],
   "execution_count": 23
  },
  {
   "metadata": {
    "ExecuteTime": {
     "end_time": "2025-03-30T16:09:36.519995Z",
     "start_time": "2025-03-30T16:09:36.467632Z"
    }
   },
   "cell_type": "code",
   "source": [
    "animals = pd.read_csv('train.csv')\n",
    "\n",
    "animals.info()"
   ],
   "id": "fdfdba891d1652d4",
   "outputs": [
    {
     "name": "stdout",
     "output_type": "stream",
     "text": [
      "<class 'pandas.core.frame.DataFrame'>\n",
      "RangeIndex: 26729 entries, 0 to 26728\n",
      "Data columns (total 10 columns):\n",
      " #   Column          Non-Null Count  Dtype \n",
      "---  ------          --------------  ----- \n",
      " 0   AnimalID        26729 non-null  object\n",
      " 1   Name            19038 non-null  object\n",
      " 2   DateTime        26729 non-null  object\n",
      " 3   OutcomeType     26729 non-null  object\n",
      " 4   OutcomeSubtype  13117 non-null  object\n",
      " 5   AnimalType      26729 non-null  object\n",
      " 6   SexuponOutcome  26728 non-null  object\n",
      " 7   AgeuponOutcome  26711 non-null  object\n",
      " 8   Breed           26729 non-null  object\n",
      " 9   Color           26729 non-null  object\n",
      "dtypes: object(10)\n",
      "memory usage: 2.0+ MB\n"
     ]
    }
   ],
   "execution_count": 34
  }
 ],
 "metadata": {
  "kernelspec": {
   "display_name": "Python 3",
   "language": "python",
   "name": "python3"
  },
  "language_info": {
   "codemirror_mode": {
    "name": "ipython",
    "version": 2
   },
   "file_extension": ".py",
   "mimetype": "text/x-python",
   "name": "python",
   "nbconvert_exporter": "python",
   "pygments_lexer": "ipython2",
   "version": "2.7.6"
  }
 },
 "nbformat": 4,
 "nbformat_minor": 5
}
