{
 "cells": [
  {
   "metadata": {},
   "cell_type": "markdown",
   "source": [
    "### <center>Zadanie 4</center>\n",
    "#### Grupowanie na zbiorze dotyczącym marskości wątroby"
   ],
   "id": "d005de765283bc92"
  },
  {
   "metadata": {},
   "cell_type": "code",
   "source": [
    "import numpy as np\n",
    "import matplotlib.pyplot as plt\n",
    "import pandas as pd\n",
    "from sklearn.impute import KNNImputer\n",
    "from sklearn.preprocessing import LabelEncoder, StandardScaler\n",
    "import seaborn as sns"
   ],
   "id": "da6debdf9e83d491",
   "outputs": [],
   "execution_count": null
  },
  {
   "metadata": {},
   "cell_type": "markdown",
   "source": "### Wczytanie danych",
   "id": "b01ff9f948a86918"
  },
  {
   "metadata": {},
   "cell_type": "code",
   "source": [
    "data = pd.read_csv('cirrhosis.csv')\n",
    "data.drop(columns=['ID', 'Status'], inplace=True)\n",
    "data['Stage'] = data['Stage'].astype('category')\n",
    "\n",
    "data.info()"
   ],
   "id": "eb96cc5e900c1598",
   "outputs": [],
   "execution_count": null
  },
  {
   "metadata": {},
   "cell_type": "code",
   "source": "data.head()",
   "id": "34604ad5a00983b4",
   "outputs": [],
   "execution_count": null
  },
  {
   "metadata": {},
   "cell_type": "markdown",
   "source": [
    "### Wizualizacja danych\n",
    "\n",
    "<ol>\n",
    "<li>wykresy kołowe</li>\n",
    "<li>histogramy</li>\n",
    "<li>macierz korelacji</li>\n",
    "</ol>"
   ],
   "id": "5994a8c6156cf21c"
  },
  {
   "metadata": {},
   "cell_type": "markdown",
   "source": [
    "### Przygotowanie danych\n",
    "\n",
    "<ol>\n",
    "<li>konwersja object do category</li>\n",
    "<li>uzupełnienie danych</li>\n",
    "<li>standard scaler na kolumnach float, int</li>\n",
    "</ol>"
   ],
   "id": "8456848ad6788178"
  },
  {
   "metadata": {},
   "cell_type": "markdown",
   "source": [
    "#### Wykresy kołowe przedstawiają podział pacjentów według:\n",
    "<ol>\n",
    "<li>przyjętego lekarstwa</li>\n",
    "<li>płci</li>\n",
    "<li>obecności wodobrzusza</li>\n",
    "<li>obecności hepatomegalii</li>\n",
    "<li>obecności pajączków naczyniowych</li>\n",
    "<li>obecność obrzęku w połączeniu z leczeniem diuretykami</li>\n",
    "</ol>"
   ],
   "id": "381e3e1e01f2c145"
  },
  {
   "metadata": {},
   "cell_type": "code",
   "source": [
    "fig, ax = plt.subplots(nrows=4, ncols=2, figsize=(12, 16))\n",
    "plt.suptitle('Podział pacjentów według kategorii', fontsize=20)\n",
    "\n",
    "colors = ['blue', 'yellow', 'gray', 'red', 'black']\n",
    "titles = ['Przyjmowanie penicylaminy', 'Płeć', 'Wodobrzusze', 'Hepatomegalia', 'Pajączki naczyniowe', 'Obrzęk z leczeniem diuretykami', 'Stopień marskości wątroby']\n",
    "object_columns = data.select_dtypes(include=['object']).columns.values\n",
    "object_columns = np.append(object_columns, 'Stage')\n",
    "\n",
    "for i, column in enumerate(object_columns):\n",
    "    x, y = divmod(i, 2)\n",
    "    el = data.groupby(column, dropna=False, as_index=True, observed=True).size()\n",
    "    explode = [0.05 for _ in range(len(el))]\n",
    "    ax[x, y].pie(\n",
    "        x=el,\n",
    "        explode=explode,\n",
    "        labels=el.index,\n",
    "        colors=colors,\n",
    "        autopct='%1.1f%%',\n",
    "        textprops={'fontsize': 12, 'fontweight': 'bold'},\n",
    "        radius=1,\n",
    "        startangle=180,\n",
    "        labeldistance=1.2,\n",
    "        wedgeprops={'edgecolor': 'black', 'linewidth': 2},\n",
    "        normalize=True,\n",
    "    )\n",
    "    ax[x, y].set_title(f'{titles[i]}', fontsize=14)\n",
    "\n",
    "ax[3, 1].axis('off')\n",
    "plt.tight_layout()\n",
    "plt.show()"
   ],
   "id": "4e7dbf653aea16a",
   "outputs": [],
   "execution_count": null
  },
  {
   "metadata": {},
   "cell_type": "markdown",
   "source": [
    "#### Konwersja object na category + Uzupełnienie danych kategorycznych\n",
    "\n",
    "Uzupełnienie wartości następuje losowo zachowując procenty udziału tych kategorii w liczebności bez NaN."
   ],
   "id": "d2fb835bdc04d52a"
  },
  {
   "metadata": {},
   "cell_type": "code",
   "source": [
    "encoders = [LabelEncoder() for _ in range(len(object_columns))]\n",
    "\n",
    "for i, column in enumerate(object_columns):\n",
    "    counts = data[column].value_counts()\n",
    "    missing_count = data[column].isna().sum()\n",
    "    counts *= (missing_count / counts.sum())\n",
    "    counts = np.ceil(counts).astype(int)\n",
    "    series = pd.Series(np.repeat(counts.index, counts))[:missing_count]\n",
    "    series = series.sample(frac=1, random_state=42).reset_index(drop=True)\n",
    "    data.loc[data[column].isna(), column] = series.values\n",
    "    data[column] = encoders[i].fit_transform(data[column])\n",
    "    data[column] = data[column].astype('category')\n",
    "\n",
    "data.info()"
   ],
   "id": "11ac769232f08666",
   "outputs": [],
   "execution_count": null
  },
  {
   "metadata": {},
   "cell_type": "markdown",
   "source": [
    "#### Histogramy przedstawiają rozkład danych w kolumnach:\n",
    "\n",
    "<ol>\n",
    "<li>N_Days -> liczby dni między rejestracją, a wcześniejszym zgonem, przeszczepem lub końcem analizy badania</li>\n",
    "<li>Age -> wiek pacjenta w dniach</li>\n",
    "<li>Bilirubin -> stężenie bilirubiny (mg/dl)</li>\n",
    "<li>Choresterol -> stężenie choresterolu (mg/dl)</li>\n",
    "<li>Albumin -> albumina (mg/dl)</li>\n",
    "<li>Copper -> ilość miedzi w moczu (µg/dzień)</li>\n",
    "<li>Alk_Phos -> fosfataza alkaliczna (U/litr)</li>\n",
    "<li>SGOT -> aminotransferaza asparaginianowa (U/ml)</li>\n",
    "<li>Tryglicerides -> liczba triglicerydów</li>\n",
    "<li>Platelets -> liczba płytek krwi na ml/1000</li>\n",
    "<li>Prothrombin -> czas protrombinowy -> czas krzepnięcia krwi</li>\n",
    "</ol>"
   ],
   "id": "d67a7fbc59ab6efa"
  },
  {
   "metadata": {},
   "cell_type": "code",
   "source": [
    "fig, ax = plt.subplots(nrows=4, ncols=3, figsize=(16, 12))\n",
    "\n",
    "titles = ['Liczba dni między rejestracją, a końcem', 'Wiek pacjenta (dzień)', 'Stężenie bilirubiny (mg/dl)', 'Stężenie choresterolu (mg/dl)', 'Obecność albuminy (mg/dl)', 'Ilość miedzy w moczu  (µg/dzień)', 'Fosfataza alkaliczna (U/litr)', 'SGOT (U/ml)', 'Liczba triglicedydów', 'Liczba płytek krwi na ml/1000', 'Czas protrombinowy']\n",
    "\n",
    "plt.suptitle('Rozkład wartości w kolumnach z zmiennymi liczbowymi', fontsize=20)\n",
    "\n",
    "for i, column in enumerate(data.select_dtypes(include=np.number).columns[:-1]):\n",
    "    x, y = divmod(i, 3)\n",
    "    ax[x, y].hist(\n",
    "        x=data[column], color='blue',\n",
    "        edgecolor='black',\n",
    "        linewidth=1,\n",
    "        alpha=1\n",
    "    )\n",
    "    ax[x, y].set_title(f'Kolumna: {column}', fontsize=14)\n",
    "    ax[x, y].set_ylabel('Liczebność')\n",
    "\n",
    "ax[3, 1].axis('off')\n",
    "ax[3, 2].axis('off')\n",
    "plt.tight_layout()\n",
    "plt.show()"
   ],
   "id": "1599fdd8a771974d",
   "outputs": [],
   "execution_count": null
  },
  {
   "metadata": {},
   "cell_type": "markdown",
   "source": [
    "#### Uzupełnienie danych numerycznych\n",
    "\n",
    "Wykorzystanie mediany dla małych braków i interpolacji w reszcie przypadków.\n",
    "Zastosowanie StandardScalera dla zminiejszenia odległości między punktami w zbiorze (ułatwi to robotę dla kMeans)."
   ],
   "id": "944f0f034cc9a3da"
  },
  {
   "metadata": {},
   "cell_type": "code",
   "source": [
    "number_columns = data.select_dtypes(exclude='category').columns\n",
    "\n",
    "for i, column in enumerate(number_columns):\n",
    "    if data[column].isna().sum() / len(data.index) > 0.05:\n",
    "        data[column] = data[column].interpolate(method='linear', limit_direction='both')\n",
    "    else:\n",
    "        data[column] = data[column].fillna(data[column].median())\n",
    "\n",
    "standardizer = StandardScaler()\n",
    "after_standard = standardizer.fit_transform(data[number_columns])\n",
    "data.drop(columns=number_columns, inplace=True)\n",
    "data = pd.concat([data, pd.DataFrame(after_standard, columns=number_columns)], axis=1)\n",
    "\n",
    "data.info()"
   ],
   "id": "2052402367bbfdef",
   "outputs": [],
   "execution_count": null
  },
  {
   "metadata": {},
   "cell_type": "code",
   "source": "data.head()",
   "id": "c567c57891099759",
   "outputs": [],
   "execution_count": null
  },
  {
   "metadata": {},
   "cell_type": "markdown",
   "source": "#### Macierz korelacji Pearsona",
   "id": "35817ee7decf339c"
  },
  {
   "metadata": {},
   "cell_type": "code",
   "source": [
    "object_columns = data.select_dtypes(include='object').columns.values\n",
    "object_columns = np.append(object_columns, 'Stage')\n",
    "encoders = [LabelEncoder() for _ in range(len(object_columns))]\n",
    "\n",
    "for i, column in enumerate(object_columns):\n",
    "    data[column] = encoders[i].fit_transform(data[column])\n",
    "\n",
    "plt.figure(figsize=(12, 10))\n",
    "sns.heatmap(data.corr(), annot=True, fmt='.2f', cmap='Greys')\n",
    "plt.show()"
   ],
   "id": "cb2c37658fc4edee",
   "outputs": [],
   "execution_count": null
  },
  {
   "metadata": {},
   "cell_type": "markdown",
   "source": "### Analiza skupień przy wykorzystaniu algorytmu KMeans",
   "id": "2b9a3a0a54db40c0"
  },
  {
   "metadata": {},
   "cell_type": "code",
   "source": [
    "from sklearn.cluster import KMeans\n",
    "\n",
    "\n",
    "kmeans = KMeans(n_clusters=3)\n",
    "kmeans.fit(data)"
   ],
   "id": "42fc8173702b55ce",
   "outputs": [],
   "execution_count": null
  }
 ],
 "metadata": {
  "kernelspec": {
   "display_name": "Python 3",
   "language": "python",
   "name": "python3"
  },
  "language_info": {
   "codemirror_mode": {
    "name": "ipython",
    "version": 2
   },
   "file_extension": ".py",
   "mimetype": "text/x-python",
   "name": "python",
   "nbconvert_exporter": "python",
   "pygments_lexer": "ipython2",
   "version": "2.7.6"
  }
 },
 "nbformat": 4,
 "nbformat_minor": 5
}
