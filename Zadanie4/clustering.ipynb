{
 "cells": [
  {
   "metadata": {},
   "cell_type": "markdown",
   "source": [
    "### <center>Zadanie 4</center>\n",
    "#### Grupowanie na zbiorze dotyczącym marskości wątroby"
   ],
   "id": "d005de765283bc92"
  },
  {
   "metadata": {},
   "cell_type": "code",
   "source": [
    "import numpy as np\n",
    "import matplotlib.pyplot as plt\n",
    "import pandas as pd\n",
    "from sklearn.preprocessing import LabelEncoder, StandardScaler, MinMaxScaler"
   ],
   "id": "da6debdf9e83d491",
   "outputs": [],
   "execution_count": null
  },
  {
   "metadata": {},
   "cell_type": "markdown",
   "source": "### Wczytanie danych",
   "id": "b01ff9f948a86918"
  },
  {
   "metadata": {},
   "cell_type": "code",
   "source": [
    "data = pd.read_csv('cirrhosis.csv')\n",
    "\n",
    "status = data.Status\n",
    "status_encoder = LabelEncoder()\n",
    "status_encoder.fit(status)\n",
    "status = status_encoder.transform(status)\n",
    "\n",
    "data.drop(columns=['ID', 'Status'], inplace=True)\n",
    "data['Stage'] = data['Stage'].astype('category')\n",
    "\n",
    "data.info()"
   ],
   "id": "eb96cc5e900c1598",
   "outputs": [],
   "execution_count": null
  },
  {
   "metadata": {},
   "cell_type": "code",
   "source": "data.head()",
   "id": "34604ad5a00983b4",
   "outputs": [],
   "execution_count": null
  },
  {
   "metadata": {},
   "cell_type": "markdown",
   "source": [
    "### Wizualizacja danych\n",
    "\n",
    "<ol>\n",
    "<li>wykresy kołowe</li>\n",
    "<li>histogramy</li>\n",
    "<li>macierz korelacji</li>\n",
    "</ol>"
   ],
   "id": "5994a8c6156cf21c"
  },
  {
   "metadata": {},
   "cell_type": "markdown",
   "source": [
    "### Przygotowanie danych\n",
    "\n",
    "<ol>\n",
    "<li>konwersja object do category</li>\n",
    "<li>uzupełnienie danych</li>\n",
    "<li>standard scaler na kolumnach float, int</li>\n",
    "</ol>"
   ],
   "id": "8456848ad6788178"
  },
  {
   "metadata": {},
   "cell_type": "markdown",
   "source": [
    "#### Wykresy kołowe przedstawiają podział pacjentów według:\n",
    "<ol>\n",
    "<li>przyjętego lekarstwa</li>\n",
    "<li>płci</li>\n",
    "<li>obecności wodobrzusza</li>\n",
    "<li>obecności hepatomegalii</li>\n",
    "<li>obecności pajączków naczyniowych</li>\n",
    "<li>obecność obrzęku w połączeniu z leczeniem diuretykami</li>\n",
    "</ol>"
   ],
   "id": "381e3e1e01f2c145"
  },
  {
   "metadata": {},
   "cell_type": "code",
   "source": [
    "fig, ax = plt.subplots(nrows=4, ncols=2, figsize=(12, 16))\n",
    "plt.suptitle('Podział pacjentów według kategorii', fontsize=20, y=0.98)\n",
    "\n",
    "colors = ['blue', 'yellow', 'gray', 'red', 'black']\n",
    "titles = ['Przyjmowanie penicylaminy', 'Płeć', 'Wodobrzusze', 'Hepatomegalia', 'Pajączki naczyniowe', 'Obrzęk z leczeniem diuretykami', 'Stopień marskości wątroby']\n",
    "object_columns = data.select_dtypes(include=['object']).columns.values\n",
    "object_columns = np.append(object_columns, 'Stage')\n",
    "\n",
    "for i, column in enumerate(object_columns):\n",
    "    x, y = divmod(i, 2)\n",
    "    el = data.groupby(column, dropna=False, as_index=True, observed=True).size()\n",
    "    explode = [0.05 for _ in range(len(el))]\n",
    "    ax[x, y].pie(\n",
    "        x=el,\n",
    "        explode=explode,\n",
    "        labels=el.index,\n",
    "        colors=colors,\n",
    "        autopct='%1.1f%%',\n",
    "        textprops={'fontsize': 12, 'fontweight': 'bold'},\n",
    "        radius=1,\n",
    "        startangle=180,\n",
    "        labeldistance=1.2,\n",
    "        wedgeprops={'edgecolor': 'black', 'linewidth': 2},\n",
    "        normalize=True,\n",
    "    )\n",
    "    ax[x, y].set_title(f'{titles[i]}', fontsize=14)\n",
    "\n",
    "ax[3, 1].axis('off')\n",
    "plt.tight_layout()\n",
    "plt.show()"
   ],
   "id": "4e7dbf653aea16a",
   "outputs": [],
   "execution_count": null
  },
  {
   "metadata": {},
   "cell_type": "markdown",
   "source": [
    "#### Konwersja object na category + Uzupełnienie danych kategorycznych\n",
    "\n",
    "Uzupełnienie wartości następuje losowo zachowując procenty udziału tych kategorii w liczebności bez NaN."
   ],
   "id": "d2fb835bdc04d52a"
  },
  {
   "metadata": {},
   "cell_type": "code",
   "source": [
    "encoders = [LabelEncoder() for _ in range(len(object_columns))]\n",
    "\n",
    "for i, column in enumerate(object_columns):\n",
    "    counts = data[column].value_counts()\n",
    "    missing_count = data[column].isna().sum()\n",
    "    counts *= (missing_count / counts.sum())\n",
    "    counts = np.ceil(counts).astype(int)\n",
    "    series = pd.Series(np.repeat(counts.index, counts))[:missing_count]\n",
    "    series = series.sample(frac=1, random_state=42).reset_index(drop=True)\n",
    "    data.loc[data[column].isna(), column] = series.values\n",
    "    data[column] = encoders[i].fit_transform(data[column])\n",
    "    data[column] = data[column].astype('category')\n",
    "\n",
    "data.info()"
   ],
   "id": "11ac769232f08666",
   "outputs": [],
   "execution_count": null
  },
  {
   "metadata": {},
   "cell_type": "markdown",
   "source": [
    "#### Histogramy przedstawiają rozkład danych w kolumnach:\n",
    "\n",
    "<ol>\n",
    "<li>N_Days -> liczby dni między rejestracją, a wcześniejszym zgonem, przeszczepem lub końcem analizy badania</li>\n",
    "<li>Age -> wiek pacjenta w dniach</li>\n",
    "<li>Bilirubin -> stężenie bilirubiny (mg/dl)</li>\n",
    "<li>Choresterol -> stężenie choresterolu (mg/dl)</li>\n",
    "<li>Albumin -> albumina (mg/dl)</li>\n",
    "<li>Copper -> ilość miedzi w moczu (µg/dzień)</li>\n",
    "<li>Alk_Phos -> fosfataza alkaliczna (U/litr)</li>\n",
    "<li>SGOT -> aminotransferaza asparaginianowa (U/ml)</li>\n",
    "<li>Tryglicerides -> liczba triglicerydów</li>\n",
    "<li>Platelets -> liczba płytek krwi na ml/1000</li>\n",
    "<li>Prothrombin -> czas protrombinowy -> czas krzepnięcia krwi</li>\n",
    "</ol>"
   ],
   "id": "d67a7fbc59ab6efa"
  },
  {
   "metadata": {},
   "cell_type": "code",
   "source": [
    "fig, ax = plt.subplots(nrows=4, ncols=3, figsize=(16, 12))\n",
    "\n",
    "titles = ['Liczba dni między rejestracją, a końcem', 'Wiek pacjenta (dzień)', 'Stężenie bilirubiny (mg/dl)', 'Stężenie choresterolu (mg/dl)', 'Obecność albuminy (mg/dl)', 'Ilość miedzy w moczu  (µg/dzień)', 'Fosfataza alkaliczna (U/litr)', 'SGOT (U/ml)', 'Liczba triglicedydów', 'Liczba płytek krwi na ml/1000', 'Czas protrombinowy']\n",
    "\n",
    "plt.suptitle('Rozkład wartości w kolumnach z zmiennymi liczbowymi', fontsize=20)\n",
    "\n",
    "for i, column in enumerate(data.select_dtypes(include=np.number).columns[:-1]):\n",
    "    x, y = divmod(i, 3)\n",
    "    ax[x, y].hist(\n",
    "        x=data[column], color='blue',\n",
    "        edgecolor='black',\n",
    "        linewidth=1,\n",
    "        alpha=1\n",
    "    )\n",
    "    ax[x, y].set_title(f'Kolumna: {column}', fontsize=14)\n",
    "    ax[x, y].set_ylabel('Liczebność')\n",
    "\n",
    "ax[3, 1].axis('off')\n",
    "ax[3, 2].axis('off')\n",
    "plt.tight_layout()\n",
    "plt.show()"
   ],
   "id": "1599fdd8a771974d",
   "outputs": [],
   "execution_count": null
  },
  {
   "metadata": {},
   "cell_type": "markdown",
   "source": [
    "#### Uzupełnienie danych numerycznych\n",
    "\n",
    "Wykorzystanie mediany dla małych braków i interpolacji w reszcie przypadków.\n",
    "Zastosowanie StandardScalera dla zminiejszenia odległości między punktami w zbiorze (ułatwi to robotę dla kMeans)."
   ],
   "id": "944f0f034cc9a3da"
  },
  {
   "metadata": {},
   "cell_type": "code",
   "source": [
    "number_columns = data.select_dtypes(exclude='category').columns\n",
    "\n",
    "for i, column in enumerate(number_columns):\n",
    "    if data[column].isna().sum() / len(data.index) > 0.05:\n",
    "        data[column] = data[column].interpolate(method='linear', limit_direction='both')\n",
    "    else:\n",
    "        data[column] = data[column].fillna(data[column].median())\n",
    "\n",
    "standardizer = StandardScaler()\n",
    "after_standard = standardizer.fit_transform(data[number_columns])\n",
    "data.drop(columns=number_columns, inplace=True)\n",
    "data = pd.concat([data, pd.DataFrame(after_standard, columns=number_columns)], axis=1)\n",
    "\n",
    "data.info()"
   ],
   "id": "2052402367bbfdef",
   "outputs": [],
   "execution_count": null
  },
  {
   "metadata": {},
   "cell_type": "code",
   "source": "data.head()",
   "id": "c567c57891099759",
   "outputs": [],
   "execution_count": null
  },
  {
   "metadata": {},
   "cell_type": "markdown",
   "source": "#### Macierz korelacji Pearsona",
   "id": "35817ee7decf339c"
  },
  {
   "metadata": {},
   "cell_type": "code",
   "source": [
    "object_columns = data.select_dtypes(include='object').columns.values\n",
    "object_columns = np.append(object_columns, 'Stage')\n",
    "encoders = [LabelEncoder() for _ in range(len(object_columns))]\n",
    "\n",
    "for i, column in enumerate(object_columns):\n",
    "    data[column] = encoders[i].fit_transform(data[column])\n",
    "\n",
    "plt.figure(figsize=(12, 10))\n",
    "correlation_mat = data.corr()\n",
    "plt.imshow(\n",
    "    X=correlation_mat,\n",
    "    cmap='Greys',\n",
    "    vmax=1,\n",
    "    vmin=-1,\n",
    ")\n",
    "plt.colorbar(label='Wartość korelacji')\n",
    "plt.xticks(ticks=np.arange(len(correlation_mat.columns)), labels=correlation_mat.columns, rotation=45)\n",
    "plt.yticks(ticks=np.arange(len(correlation_mat.columns)), labels=correlation_mat.columns)\n",
    "plt.title('Macierz korelacji dla zbioru marskości wątroby', fontsize=14, pad=20)\n",
    "\n",
    "for i in range(len(correlation_mat.columns)):\n",
    "    for j in range(len(correlation_mat.columns)):\n",
    "        text = f'{correlation_mat.iloc[i, j]:.2f}'\n",
    "        if correlation_mat.iloc[i, j] >= 0.2:\n",
    "            plt.text(j, i, text, ha='center', va='center', color='white', fontsize=12)\n",
    "\n",
    "plt.grid(True)"
   ],
   "id": "cb2c37658fc4edee",
   "outputs": [],
   "execution_count": null
  },
  {
   "metadata": {},
   "cell_type": "markdown",
   "source": [
    "### <center>Analiza skupień przy wykorzystaniu algorytmu KMeans, AgglomerativeClustering</center>\n",
    "\n",
    "<b>KMeans</b> - metoda k-średnich dzieli zbiór przypadków na k skupień. Algorytm rozpoczyna działanie od losowo wybranych k środków skupień lub przypadków możliwie od siebie oddalonych. Następnie w kolejnych iteracjach przypisuje obiekty do najbliższych skupień, biorąc pod uwagę odległość od ich środków (miara euklidesowa, manhattan, czebyszewa)\n",
    "\n",
    "<b>AgglomerativeClustering</b> - metoda hierarchiczna, która działa od dołu do góry. Na początku każdy punkt jest traktowany jako osobna grupa i potem na podstawie wybranego linkage klastry są łączone w większe.\n",
    "Możliwe wartości linkage:\n",
    "- Ward (połączenie Ward'a) -> metoda łącząca skupienia na zasadzie minimalizacji sumy kwadratów odległości pomiędzy członkami oraz środkiem klastra.\n",
    "- Maximum/Complete linkage (kompletne łączenie klastrów) -> minimalizowanie maksymalnej odległości pomiędzy parami obserwacji klastrów.\n",
    "- Average linkage (średnie połączenie klastrów) -> minimalizowanie średniej odległości pomiędzy parami obserwacji klastrów.\n",
    "- Single linkage (pojedyncze łączenie klastrów) -> minimalizowanie minimalnej odległości między pomiędzy parami obserwacji klastrów.\n",
    "\n",
    "Poniżej znajduje się metodologia testowania obu metod:\n",
    "<ol>\n",
    "<li>Metoda łokcia</li>\n",
    "<li>Kryteria wewnętrzne</li>\n",
    "<ul>\n",
    "<li>Kryterium współczynnika wariancji Calińskiego-Harabasza (VCR)</li>\n",
    "<li>Współczynnik zarysu (ang. Silhouette coefficient)</li>\n",
    "</ul>\n",
    "<li>Kryteria zewnętrzne</li>\n",
    "<ul>\n",
    "<li>Macierz kontyngencji</li>\n",
    "<li>Indeks Randa</li>\n",
    "<li>Współczynnik wzajemnej informacji (ang. Mutual Information)</li>\n",
    "</ul>\n",
    "</ol>"
   ],
   "id": "2b9a3a0a54db40c0"
  },
  {
   "metadata": {},
   "cell_type": "code",
   "source": [
    "from sklearn.cluster import KMeans, AgglomerativeClustering\n",
    "\n",
    "\n",
    "fig, ax = plt.subplots(nrows=2, figsize=(12, 10))\n",
    "\n",
    "algorithms = [KMeans(init='random', random_state=42), AgglomerativeClustering()]\n",
    "\n",
    "for i, algorithm in enumerate(algorithms):\n",
    "    wcss = []\n",
    "    for j in range(1, 15):\n",
    "        km = algorithm.set_params(n_clusters=j)\n",
    "        km.fit(data)\n",
    "        wcss.append(km.inertia_)\n",
    "\n",
    "    ax[i].plot(\n",
    "        range(1, 15),\n",
    "        wcss,\n",
    "        marker='o',\n",
    "        markerfacecolor='red',\n",
    "        markeredgecolor='black',\n",
    "        markersize=5,\n",
    "    )\n",
    "    ax[i].set_xlabel('Liczba klastrów k', labelpad=10, fontsize=12)\n",
    "    ax[i].set_ylabel('Wartość WCSS', labelpad=10, fontsize=12)\n",
    "    ax[i].set_title('Metoda łokcia', pad=20, fontsize=14)\n",
    "\n",
    "plt.tight_layout()\n",
    "plt.show()"
   ],
   "id": "42fc8173702b55ce",
   "outputs": [],
   "execution_count": null
  },
  {
   "metadata": {},
   "cell_type": "code",
   "source": [
    "the_best = KMeans(n_clusters=3, linkage='average')\n",
    "the_best.fit(data)"
   ],
   "id": "f0456cc84820d998",
   "outputs": [],
   "execution_count": null
  },
  {
   "metadata": {},
   "cell_type": "markdown",
   "source": [
    "#### Kryterium współczynnika wariancji Calińskiego-Harabasza (VCR)\n",
    "\n"
   ],
   "id": "1ee750707ae8a6cd"
  },
  {
   "metadata": {},
   "cell_type": "code",
   "source": [
    "from sklearn.metrics import calinski_harabasz_score\n",
    "\n",
    "\n",
    "calinski_harabasz_score(data, the_best.labels_)"
   ],
   "id": "908fc9d3a4a7b52d",
   "outputs": [],
   "execution_count": null
  },
  {
   "metadata": {},
   "cell_type": "markdown",
   "source": "#### Współczynnik zarysu (ang. Silhouette coefficient)",
   "id": "ef6c7fc05d1139f9"
  },
  {
   "metadata": {},
   "cell_type": "code",
   "source": [
    "from sklearn.metrics import silhouette_score\n",
    "\n",
    "\n",
    "silhouette_score(data, the_best.labels_)"
   ],
   "id": "f40ab3a0fe27fcf8",
   "outputs": [],
   "execution_count": null
  },
  {
   "metadata": {},
   "cell_type": "markdown",
   "source": "#### Macierz kontyngencji",
   "id": "7ee39caf347b9d2f"
  },
  {
   "metadata": {},
   "cell_type": "code",
   "source": [
    "from sklearn.metrics.cluster import contingency_matrix\n",
    "\n",
    "\n",
    "plt.figure(figsize=(12, 10))\n",
    "contingency_mat = contingency_matrix(status, the_best.labels_)\n",
    "plt.imshow(\n",
    "    X=contingency_mat,\n",
    "    cmap='plasma',\n",
    ")\n",
    "plt.colorbar(label='Liczba obserwacji')\n",
    "plt.xlabel('Przewidziane etykiety', fontsize=12, labelpad=10)\n",
    "plt.ylabel('Rzeczywiste etykiety', fontsize=12, labelpad=10)\n",
    "plt.xticks(ticks=np.arange(contingency_mat.shape[0]), labels=status_encoder.classes_)\n",
    "plt.yticks(ticks=np.arange(contingency_mat.shape[0]), labels=status_encoder.classes_)\n",
    "plt.title('Macierz kontyngencji', fontsize=14, pad=20)\n",
    "\n",
    "for i in range(contingency_mat.shape[0]):\n",
    "    for j in range(contingency_mat.shape[1]):\n",
    "        plt.text(j, i, contingency_mat[i, j], ha='center', va='center', color='white', fontsize=12)"
   ],
   "id": "aa42398900fe1bf6",
   "outputs": [],
   "execution_count": null
  },
  {
   "metadata": {},
   "cell_type": "markdown",
   "source": [
    "#### Indeks Randa\n",
    "\n",
    "Indeks Randa jest miarą służącą do ewaluacji jakości grupowania (klastrowania) poprzez porównanie dwóch różnych podziałów tego samego zbioru danych. Jest to popularna metoda oceny zgodności między algorytmicznym grupowaniem a znaną klasyfikacją referencyjną.\n",
    "\n",
    "Główne cechy Indeksu Randa:\n",
    "\n",
    "- Mierzy podobieństwo między dwoma grupowaniami na podstawie par obiektów\n",
    "- Wartość zawiera się w przedziale [0,1], gdzie 1 oznacza całkowitą zgodność grupowań\n",
    "- Uwzględnia zarówno pary obiektów przypisane do tej samej grupy, jak i pary przypisane do różnych grup"
   ],
   "id": "2a0fc53a46d8f3d5"
  },
  {
   "metadata": {},
   "cell_type": "code",
   "source": [
    "from sklearn.metrics import rand_score\n",
    "\n",
    "\n",
    "rand_score(status, the_best.labels_)"
   ],
   "id": "1804cc2a79f41958",
   "outputs": [],
   "execution_count": null
  },
  {
   "metadata": {},
   "cell_type": "markdown",
   "source": [
    "#### Współczynnik wzajemnej informacji (ang. Mutual Information, MI)\n",
    "\n",
    "Zakres wartości: mi >= 0\n",
    "\n",
    "mi = 0 -> brak relacji miedzy obiema zmiennymi\n",
    "\n",
    "Im większy wynik tym silniejsza relacja.\n",
    "\n",
    "\n",
    "#### Znormalizowany MI\n",
    "\n",
    "Zakres wartości: 0 <= nmi <= 1\n",
    "\n",
    "mi = 0 -> brak relacji między obiema zmiennymi\n",
    "mi = 1 -> bardzo silna relacja między obiema zmiennymi"
   ],
   "id": "afa11fc24dd74a65"
  },
  {
   "metadata": {},
   "cell_type": "code",
   "source": [
    "from sklearn.metrics import mutual_info_score, normalized_mutual_info_score\n",
    "\n",
    "\n",
    "mi = mutual_info_score(status, the_best.labels_)\n",
    "nmi = normalized_mutual_info_score(status, the_best.labels_)\n",
    "\n",
    "(mi, nmi)"
   ],
   "id": "c7e238bca29bab4d",
   "outputs": [],
   "execution_count": null
  },
  {
   "metadata": {},
   "cell_type": "code",
   "source": "",
   "id": "c27616d824378b41",
   "outputs": [],
   "execution_count": null
  }
 ],
 "metadata": {
  "kernelspec": {
   "display_name": "Python 3",
   "language": "python",
   "name": "python3"
  },
  "language_info": {
   "codemirror_mode": {
    "name": "ipython",
    "version": 2
   },
   "file_extension": ".py",
   "mimetype": "text/x-python",
   "name": "python",
   "nbconvert_exporter": "python",
   "pygments_lexer": "ipython2",
   "version": "2.7.6"
  }
 },
 "nbformat": 4,
 "nbformat_minor": 5
}
