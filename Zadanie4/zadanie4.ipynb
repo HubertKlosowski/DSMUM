{
 "cells": [
  {
   "cell_type": "markdown",
   "id": "d005de765283bc92",
   "metadata": {},
   "source": [
    "### <center>Zadanie 4</center>\n",
    "#### Grupowanie na zbiorze dotyczącym marskości wątroby"
   ]
  },
  {
   "cell_type": "code",
   "id": "da6debdf9e83d491",
   "metadata": {},
   "source": [
    "import matplotlib.pyplot as plt\n",
    "import numpy as np\n",
    "import pandas as pd\n",
    "import seaborn as sns\n",
    "from gower import gower_matrix\n",
    "from kmodes.kprototypes import KPrototypes\n",
    "from scipy.cluster.hierarchy import dendrogram\n",
    "from sklearn.cluster import AgglomerativeClustering\n",
    "from sklearn.metrics import mutual_info_score, normalized_mutual_info_score\n",
    "from sklearn.metrics import rand_score\n",
    "from sklearn.metrics import silhouette_score\n",
    "from sklearn.metrics.cluster import contingency_matrix\n",
    "from sklearn.preprocessing import LabelEncoder, StandardScaler"
   ],
   "outputs": [],
   "execution_count": null
  },
  {
   "cell_type": "markdown",
   "id": "b01ff9f948a86918",
   "metadata": {},
   "source": [
    "### Wczytanie danych"
   ]
  },
  {
   "cell_type": "code",
   "id": "eb96cc5e900c1598",
   "metadata": {},
   "source": [
    "data = pd.read_csv('cirrhosis.csv')\n",
    "\n",
    "status = data.Status\n",
    "status_encoder = LabelEncoder()\n",
    "status_encoder.fit(status)\n",
    "status = status_encoder.transform(status)\n",
    "\n",
    "data.drop(columns=['ID', 'Status'], inplace=True)\n",
    "data['Stage'] = data['Stage'].astype('category')\n",
    "\n",
    "data.info()"
   ],
   "outputs": [],
   "execution_count": null
  },
  {
   "cell_type": "code",
   "id": "34604ad5a00983b4",
   "metadata": {},
   "source": "data.head()",
   "outputs": [],
   "execution_count": null
  },
  {
   "cell_type": "markdown",
   "id": "5994a8c6156cf21c",
   "metadata": {},
   "source": [
    "### Wizualizacja danych\n",
    "\n",
    "<ol>\n",
    "<li>wykresy kołowe</li>\n",
    "<li>histogramy</li>\n",
    "<li>macierz korelacji</li>\n",
    "</ol>"
   ]
  },
  {
   "cell_type": "markdown",
   "id": "8456848ad6788178",
   "metadata": {},
   "source": [
    "### Przygotowanie danych\n",
    "\n",
    "<ol>\n",
    "<li>konwersja object do category</li>\n",
    "<li>uzupełnienie danych</li>\n",
    "<li>standard scaler na kolumnach float, int</li>\n",
    "</ol>"
   ]
  },
  {
   "cell_type": "markdown",
   "id": "381e3e1e01f2c145",
   "metadata": {},
   "source": [
    "#### Wykresy kołowe przedstawiają podział pacjentów według:\n",
    "<ol>\n",
    "<li>przyjętego lekarstwa</li>\n",
    "<li>płci</li>\n",
    "<li>obecności wodobrzusza</li>\n",
    "<li>obecności hepatomegalii</li>\n",
    "<li>obecności pajączków naczyniowych</li>\n",
    "<li>obecność obrzęku w połączeniu z leczeniem diuretykami</li>\n",
    "</ol>"
   ]
  },
  {
   "cell_type": "code",
   "id": "4e7dbf653aea16a",
   "metadata": {},
   "source": [
    "fig, ax = plt.subplots(nrows=4, ncols=2, figsize=(12, 16))\n",
    "plt.suptitle('Podział pacjentów według kategorii', fontsize=20)\n",
    "\n",
    "colors = plt.cm.Set3.colors\n",
    "titles = ['Przyjmowanie penicylaminy', 'Płeć', 'Wodobrzusze', 'Hepatomegalia', 'Pajączki naczyniowe', 'Obrzęk z leczeniem diuretykami', 'Stopień marskości wątroby']\n",
    "object_columns = data.select_dtypes(include=['object']).columns.values\n",
    "object_columns = np.append(object_columns, 'Stage')\n",
    "\n",
    "default_mapping = {'Y': 'Tak', 'N': 'Nie', 'nan': 'Nie podano'}\n",
    "\n",
    "for i, column in enumerate(object_columns):\n",
    "    x, y = divmod(i, 2)\n",
    "    el = data.groupby(column, dropna=False, as_index=True, observed=True).size()\n",
    "    explode = [0.05 for _ in range(len(el))]\n",
    "\n",
    "    if column == 'Sex':\n",
    "        label_mapping = {'F': 'Kobieta', 'M': 'Mężczyzna'}\n",
    "        labels = [label_mapping.get(str(label), str(label)) for label in el.index]\n",
    "\n",
    "    elif column == 'Edema':\n",
    "        label_mapping = {\n",
    "            'N': 'Brak',\n",
    "            'S': 'Reaguje na leczenie',\n",
    "            'Y': 'Nie reaguje na leczenie',\n",
    "            'nan': 'Nie podano'\n",
    "        }\n",
    "        labels = [\n",
    "            label_mapping.get(str(label), 'Nie podano') if pd.isna(label)\n",
    "            else label_mapping.get(str(label), str(label))\n",
    "            for label in el.index\n",
    "        ]\n",
    "\n",
    "    else:\n",
    "        labels = [\n",
    "            default_mapping.get(str(label), 'Nie podano') if pd.isna(label)\n",
    "            else default_mapping.get(str(label), str(label))\n",
    "            for label in el.index\n",
    "        ]\n",
    "\n",
    "    ax[x, y].pie(\n",
    "        x=el,\n",
    "        explode=explode,\n",
    "        labels=labels,\n",
    "        colors=colors,\n",
    "        autopct='%1.1f%%',\n",
    "        textprops={'fontsize': 12, 'fontweight': 'bold'},\n",
    "        radius=1,\n",
    "        startangle=180,\n",
    "        labeldistance=1.1,\n",
    "        wedgeprops={'edgecolor': 'white', 'linewidth': 2},\n",
    "        normalize=True,\n",
    "    )\n",
    "    ax[x, y].set_title(titles[i], fontsize=15, fontweight='bold')\n",
    "\n",
    "ax[3, 1].axis('off')\n",
    "plt.tight_layout(rect=[0, 0, 1, 0.95])\n",
    "plt.show()"
   ],
   "outputs": [],
   "execution_count": null
  },
  {
   "metadata": {},
   "cell_type": "markdown",
   "source": "#### Ułamek wartości NaN w poszczególnych kolumnach",
   "id": "77d009f6529e32d7"
  },
  {
   "cell_type": "code",
   "id": "eb43b6d5",
   "metadata": {},
   "source": "round(data.isna().sum()/len(data), 2)",
   "outputs": [],
   "execution_count": null
  },
  {
   "cell_type": "code",
   "id": "79079141",
   "metadata": {},
   "source": [
    "columns_to_drop = [column for column in data.columns if (data[column].isna().sum() / len(data)) * 100 > 30]\n",
    "data.drop(columns=columns_to_drop, inplace=True)"
   ],
   "outputs": [],
   "execution_count": null
  },
  {
   "cell_type": "code",
   "id": "21dc3d2b",
   "metadata": {},
   "source": "round(data.isna().sum()/len(data), 2)",
   "outputs": [],
   "execution_count": null
  },
  {
   "cell_type": "markdown",
   "id": "d2fb835bdc04d52a",
   "metadata": {
    "ExecuteTime": {
     "end_time": "2025-04-07T09:28:13.355157Z",
     "start_time": "2025-04-07T09:28:13.349157Z"
    }
   },
   "source": [
    "#### Konwersja object na category + Uzupełnienie danych kategorycznych\n",
    "\n",
    "Uzupełnienie wartości następuje losowo zachowując procenty udziału tych kategorii w liczebności bez NaN."
   ]
  },
  {
   "cell_type": "code",
   "id": "11ac769232f08666",
   "metadata": {},
   "source": [
    "encoders = [LabelEncoder() for _ in range(len(object_columns))]\n",
    "\n",
    "for i, column in enumerate(object_columns):\n",
    "    counts = data[column].value_counts()\n",
    "    missing_count = data[column].isna().sum()\n",
    "    counts *= (missing_count / counts.sum())\n",
    "    counts = np.ceil(counts).astype(int)\n",
    "    series = pd.Series(np.repeat(counts.index, counts))[:missing_count]\n",
    "    series = series.sample(frac=1, random_state=42).reset_index(drop=True)\n",
    "    data.loc[data[column].isna(), column] = series.values\n",
    "    data[column] = encoders[i].fit_transform(data[column])\n",
    "    data[column] = data[column].astype('category')\n",
    "\n",
    "data.info()"
   ],
   "outputs": [],
   "execution_count": null
  },
  {
   "cell_type": "markdown",
   "id": "d67a7fbc59ab6efa",
   "metadata": {
    "ExecuteTime": {
     "end_time": "2025-04-07T09:28:13.440642Z",
     "start_time": "2025-04-07T09:28:13.418668Z"
    }
   },
   "source": [
    "#### Histogramy przedstawiają rozkład danych w kolumnach:\n",
    "\n",
    "<ol>\n",
    "<li>N_Days -> liczby dni między rejestracją, a wcześniejszym zgonem, przeszczepem lub końcem analizy badania</li>\n",
    "<li>Age -> wiek pacjenta w dniach</li>\n",
    "<li>Bilirubin -> stężenie bilirubiny (mg/dl)</li>\n",
    "<li>Choresterol -> stężenie choresterolu (mg/dl)</li>\n",
    "<li>Albumin -> albumina (mg/dl)</li>\n",
    "<li>Copper -> ilość miedzi w moczu (µg/dzień)</li>\n",
    "<li>Alk_Phos -> fosfataza alkaliczna (U/litr)</li>\n",
    "<li>SGOT -> aminotransferaza asparaginianowa (U/ml)</li>\n",
    "<li>Tryglicerides -> liczba triglicerydów</li>\n",
    "<li>Platelets -> liczba płytek krwi na ml/1000</li>\n",
    "<li>Prothrombin -> czas protrombinowy -> czas krzepnięcia krwi</li>\n",
    "</ol>"
   ]
  },
  {
   "cell_type": "code",
   "id": "1599fdd8a771974d",
   "metadata": {},
   "source": [
    "fig, ax = plt.subplots(nrows=4, ncols=3, figsize=(16, 12))\n",
    "plt.suptitle('Rozkład wartości w kolumnach z zmiennymi liczbowymi', fontsize=20)\n",
    "\n",
    "numeric_columns = data.select_dtypes(include='number').columns\n",
    "\n",
    "unit_mapping = {\n",
    "    'N_Days': 'Dni',\n",
    "    'Age': 'Dni',\n",
    "    'Bilirubin': 'mg/dl',\n",
    "    'Cholesterol': 'mg/dl',\n",
    "    'Albumin': 'mg/dl',\n",
    "    'Copper': 'µg/dzień',\n",
    "    'Alk_Phos': 'U/litr',\n",
    "    'SGOT': 'U/ml',\n",
    "    'Tryglicerides': 'mg/dl',\n",
    "    'Platelets': 'tys./ml',\n",
    "    'Prothrombin': 'sekundy'\n",
    "}\n",
    "\n",
    "for i, column in enumerate(numeric_columns):\n",
    "    x, y = divmod(i, 3)\n",
    "    ax[x, y].hist(\n",
    "        data[column],\n",
    "        bins=20,\n",
    "        color='#4C72B0',\n",
    "        edgecolor='black',\n",
    "        alpha=0.85\n",
    "    )\n",
    "\n",
    "    ax[x, y].set_title(column, fontsize=14, fontweight='bold')\n",
    "    ax[x, y].set_xlabel('Wartość', fontsize=11)\n",
    "    ax[x, y].set_ylabel('Liczba obserwacji', fontsize=11)\n",
    "    ax[x, y].grid(True, linestyle='--', alpha=0.6)\n",
    "\n",
    "    jednostka = unit_mapping.get(column)\n",
    "    if jednostka:\n",
    "        ax[x, y].legend([f'Jednostka: {jednostka}'], loc='upper right', fontsize=10)\n",
    "\n",
    "for i in range(len(numeric_columns), 12):\n",
    "    x, y = divmod(i, 3)\n",
    "    ax[x, y].axis('off')\n",
    "\n",
    "plt.tight_layout(rect=[0, 0, 1, 0.95])\n",
    "plt.show()"
   ],
   "outputs": [],
   "execution_count": null
  },
  {
   "cell_type": "markdown",
   "id": "944f0f034cc9a3da",
   "metadata": {
    "ExecuteTime": {
     "end_time": "2025-04-07T09:28:15.136920Z",
     "start_time": "2025-04-07T09:28:13.477089Z"
    }
   },
   "source": [
    "#### Uzupełnienie danych numerycznych\n",
    "\n",
    "Wykorzystanie mediany dla małych braków i interpolacji w reszcie przypadków.\n",
    "Zastosowanie StandardScalera dla zminiejszenia odległości między punktami w zbiorze (ułatwi to robotę dla kMeans)."
   ]
  },
  {
   "cell_type": "code",
   "id": "2052402367bbfdef",
   "metadata": {},
   "source": [
    "number_columns = data.select_dtypes(exclude='category').columns\n",
    "\n",
    "for i, column in enumerate(number_columns):\n",
    "    data[column] = data[column].fillna(data[column].median())\n",
    "\n",
    "standardizer = StandardScaler()\n",
    "after_standard = standardizer.fit_transform(data[number_columns])\n",
    "data.drop(columns=number_columns, inplace=True)\n",
    "data = pd.concat([data, pd.DataFrame(after_standard, columns=number_columns)], axis=1)\n",
    "\n",
    "data.info()"
   ],
   "outputs": [],
   "execution_count": null
  },
  {
   "cell_type": "code",
   "id": "c23b479b",
   "metadata": {},
   "source": [
    "category_columns = data.select_dtypes(include='category').columns"
   ],
   "outputs": [],
   "execution_count": null
  },
  {
   "cell_type": "code",
   "id": "c567c57891099759",
   "metadata": {},
   "source": [
    "categorical_indices = [data.columns.get_loc(col) for col in category_columns]"
   ],
   "outputs": [],
   "execution_count": null
  },
  {
   "cell_type": "code",
   "id": "5e88c261",
   "metadata": {},
   "source": [
    "cat_features_array = np.zeros(data.shape[1], dtype=bool) \n",
    "cat_features_array[categorical_indices] = True"
   ],
   "outputs": [],
   "execution_count": null
  },
  {
   "cell_type": "markdown",
   "id": "35817ee7decf339c",
   "metadata": {
    "ExecuteTime": {
     "end_time": "2025-04-07T09:28:15.210437Z",
     "start_time": "2025-04-07T09:28:15.207438Z"
    }
   },
   "source": [
    "#### Macierz korelacji Pearsona"
   ]
  },
  {
   "cell_type": "code",
   "id": "cb2c37658fc4edee",
   "metadata": {},
   "source": [
    "plt.figure(figsize=(12, 10))\n",
    "correlation_mat = data.corr()\n",
    "plt.imshow(\n",
    "    X=correlation_mat,\n",
    "    cmap='viridis',\n",
    "    vmax=1,\n",
    "    vmin=-1,\n",
    ")\n",
    "plt.colorbar(label='Wartość korelacji')\n",
    "plt.xticks(ticks=np.arange(len(correlation_mat.columns)), labels=correlation_mat.columns, rotation=45)\n",
    "plt.yticks(ticks=np.arange(len(correlation_mat.columns)), labels=correlation_mat.columns)\n",
    "plt.title('Macierz korelacji dla zbioru marskości wątroby', fontsize=14, pad=20)\n",
    "\n",
    "for i in range(len(correlation_mat.columns)):\n",
    "    for j in range(len(correlation_mat.columns)):\n",
    "        text = f'{correlation_mat.iloc[i, j]:.2f}'\n",
    "        if correlation_mat.iloc[i, j] >= 0.2:\n",
    "            plt.text(j, i, text, ha='center', va='center', color='white', fontsize=12)\n",
    "\n",
    "plt.grid(False)"
   ],
   "outputs": [],
   "execution_count": null
  },
  {
   "cell_type": "markdown",
   "id": "2b9a3a0a54db40c0",
   "metadata": {
    "ExecuteTime": {
     "end_time": "2025-04-07T09:28:15.638134Z",
     "start_time": "2025-04-07T09:28:15.224385Z"
    }
   },
   "source": [
    "### <center>Analiza skupień przy wykorzystaniu algorytmu KPrototypes, AgglomerativeClustering</center>\n",
    "\n",
    "<b>KPrototypes</b> - jest to metoda łączaca działanie KModes i KMeans w zależności od typu danych. Dla cech numerycznych wykorzystuje KMeans z dedykowaną metryką odległości (miara czebyszewa, euklidesowa, manhattan). Dystans dla zmiennych kategorycznych jest obliczany jak w metodzie KModes.\n",
    "\n",
    "<b>AgglomerativeClustering</b> - metoda hierarchiczna, która działa od dołu do góry. Na początku każdy punkt jest traktowany jako osobna grupa i potem na podstawie wybranego linkage klastry są łączone w większe.\n",
    "Możliwe wartości linkage:\n",
    "- Ward (połączenie Ward'a) -> metoda łącząca skupienia na zasadzie minimalizacji sumy kwadratów odległości pomiędzy członkami oraz środkiem klastra.\n",
    "- Maximum/Complete linkage (kompletne łączenie klastrów) -> minimalizowanie maksymalnej odległości pomiędzy parami obserwacji klastrów.\n",
    "- Average linkage (średnie połączenie klastrów) -> minimalizowanie średniej odległości pomiędzy parami obserwacji klastrów.\n",
    "- Single linkage (pojedyncze łączenie klastrów) -> minimalizowanie minimalnej odległości między pomiędzy parami obserwacji klastrów.\n",
    "\n",
    "Poniżej znajduje się metodologia testowania obu metod:\n",
    "<ol>\n",
    "<li>Metoda łokcia</li>\n",
    "<li>Dendrogram</li>\n",
    "<li>Kryteria wewnętrzne</li>\n",
    "<ul>\n",
    "<li>Kryterium współczynnika wariancji Calińskiego-Harabasza (VCR)</li>\n",
    "<li>Współczynnik zarysu (ang. Silhouette coefficient)</li>\n",
    "</ul>\n",
    "<li>Kryteria zewnętrzne</li>\n",
    "<ul>\n",
    "<li>Macierz kontyngencji</li>\n",
    "<li>Indeks Randa</li>\n",
    "<li>Współczynnik wzajemnej informacji (ang. Mutual Information)</li>\n",
    "</ul>\n",
    "</ol>"
   ]
  },
  {
   "metadata": {},
   "cell_type": "markdown",
   "source": [
    "#### Metryka Gowera (Gower Distance)\n",
    "\n",
    "Do obliczenia odległości pomiędzy obserwacjami w zbiorze danych mieszanych (zawierających zarówno zmienne numeryczne, jak i kategoryczne) wykorzystano metrykę Gowera. Jest to miara podobieństwa zaprojektowana specjalnie do takich sytuacji – w przeciwieństwie do klasycznej odległości euklidesowej, która nie radzi sobie ze zmiennymi nienumerycznymi.\n",
    "\n",
    "- **Zmienne numeryczne**: dla każdej pary punktów obliczana jest różnica absolutna, znormalizowana do zakresu [0, 1], czyli względem rozpiętości danej cechy.\n",
    "- **Zmienne kategoryczne**: porównywane są wartości – jeśli są identyczne, podobieństwo wynosi 1, w przeciwnym razie 0.\n",
    "- **Średnia ważona**: na końcu Gower wylicza średnią tych podobieństw dla wszystkich cech, uzyskując wartość końcową odwzorowującą dystans (im mniejszy, tym dane są bardziej podobne).\n",
    "\n",
    "Metryka ta pozwala na bezproblemowe uwzględnienie wszystkich typów danych bez potrzeby ich sztucznego przekształcania. Z tego względu została zastosowana jako podstawa do tworzenia macierzy odległości, wykorzystywanej następnie w algorytmach klasteryzacji (np. aglomeracyjnej) i ocenie jakości klastrów.\n"
   ],
   "id": "a88a5d007406e67"
  },
  {
   "metadata": {},
   "cell_type": "code",
   "source": "distances = gower_matrix(data,cat_features=cat_features_array)",
   "id": "3404f19e",
   "outputs": [],
   "execution_count": null
  },
  {
   "cell_type": "markdown",
   "id": "1f744b2f14e55b3c",
   "metadata": {
    "ExecuteTime": {
     "end_time": "2025-04-07T09:28:15.677794Z",
     "start_time": "2025-04-07T09:28:15.652794Z"
    }
   },
   "source": [
    "#### Metoda łokcia\n",
    "\n",
    "Jest to metoda służąca do znalezienia optymalnej liczby klastrów (k) w algorytmie k-średnich. Na osi X znajduje się liczba klastrów (k), a na osi Y wartość metryki WCSS (Within-Cluster Sum of Squares – suma kwadratów odległości punktów od centroidów klastrów). Optymalna wartość k to punkt, w którym wykres zaczyna się wypłaszczać – przypomina kształt łokcia, co oznacza, że dalsze zwiększanie liczby klastrów nie przynosi istotnego zmniejszenia WCSS."
   ]
  },
  {
   "cell_type": "code",
   "id": "42fc8173702b55ce",
   "metadata": {},
   "source": [
    "wcss = []\n",
    "silhouette = []\n",
    "for j in range(1, 15):\n",
    "    kp = KPrototypes(n_clusters=j, random_state=42, init='random', n_init=10)\n",
    "    kp.fit(data, categorical=categorical_indices)\n",
    "    wcss.append(kp.cost_)\n",
    "    kp_labels = kp.labels_\n",
    "    if j != 1:\n",
    "        silhouette.append(silhouette_score(distances, kp_labels, metric='precomputed'))\n",
    "\n",
    "plt.figure(figsize=(14, 6))\n",
    "\n",
    "plt.subplot(1, 2, 1)\n",
    "plt.plot(range(1, 15), wcss, marker='o', markerfacecolor='red', markeredgecolor='black', markersize=5)\n",
    "plt.xlabel('Liczba klastrów k', labelpad=10, fontsize=12)\n",
    "plt.ylabel('Wartość WCSS', labelpad=10, fontsize=12)\n",
    "plt.title('Metoda łokcia', pad=20, fontsize=14)\n",
    "\n",
    "\n",
    "plt.subplot(1, 2, 2)\n",
    "plt.plot(range(2, 15), silhouette[:], marker='o', markerfacecolor='red', markeredgecolor='black', markersize=5)\n",
    "plt.xlabel('Liczba klastrów k', labelpad=10, fontsize=12)\n",
    "plt.ylabel('Wartość Silhouette', labelpad=10, fontsize=12)\n",
    "plt.title('Współczynnik Silhouette', pad=20, fontsize=14)\n",
    "\n",
    "plt.show()"
   ],
   "outputs": [],
   "execution_count": null
  },
  {
   "metadata": {
    "ExecuteTime": {
     "end_time": "2025-04-07T09:28:38.924655Z",
     "start_time": "2025-04-07T09:28:15.693381Z"
    }
   },
   "cell_type": "markdown",
   "source": [
    "#### Dendrogram\n",
    "\n",
    "Jest to forma wizualizacji procesu łączenia klastrów w metodzie aglomeracyjnej. Liście reprezentują pojedyncze punkty danych. Gałęzie pokazują, w jaki sposób i na jakim poziomie (odległości) punkty lub grupy punktów zostały połączone. Wysokość połączenia oznacza odległość między łączonymi grupami.\n",
    "\n",
    "- oś X -> etykiety punktów lub identyfikatory klastrów.\n",
    "- oś Y -> wartość dystansu przy łączeniu klastrów. Im wyższy poziom połączenia, tym mniej podobne były klastry."
   ],
   "id": "3d46f406a12d7a1b"
  },
  {
   "cell_type": "code",
   "id": "ecfc4717",
   "metadata": {},
   "source": [
    "agglomerative_1 = AgglomerativeClustering(n_clusters=None, distance_threshold=0, linkage='average',metric='precomputed').fit(distances)\n",
    "\n",
    "def plot_dendrogram(model, **kwargs):\n",
    "    counts = np.zeros(model.children_.shape[0])\n",
    "    n_samples = len(model.labels_)\n",
    "    for i, merge in enumerate(model.children_):\n",
    "        current_count = 0\n",
    "        for child_idx in merge:\n",
    "            if child_idx < n_samples:\n",
    "                current_count += 1\n",
    "            else:\n",
    "                current_count += counts[child_idx - n_samples]\n",
    "        counts[i] = current_count\n",
    "\n",
    "    linkage_matrix = np.column_stack(\n",
    "        [model.children_, model.distances_, counts]\n",
    "    ).astype(float)\n",
    "\n",
    "    dendrogram(linkage_matrix, **kwargs)\n",
    "plt.figure(figsize=(14, 10))\n",
    "\n",
    "plt.title(\"Dendrogram dla metody aglomeracyjnej\")\n",
    "plot_dendrogram(agglomerative_1, truncate_mode=\"level\", p=3)\n",
    "plt.xlabel(\"Indeksy liści dendrogramu (próbki lub połączone klastry)\")\n",
    "plt.grid(False)\n",
    "plt.show()"
   ],
   "outputs": [],
   "execution_count": null
  },
  {
   "metadata": {},
   "cell_type": "markdown",
   "source": "#### Wykres zmiany wartości współczynnika zarysu dla metody aglomeracyjnej dla różnej liczby klastrów",
   "id": "a949f041adef1e4"
  },
  {
   "cell_type": "code",
   "id": "c157091c",
   "metadata": {},
   "source": [
    "silhouette = []\n",
    "for j in range(1, 15):\n",
    "    ag = AgglomerativeClustering(n_clusters=j, distance_threshold=None, linkage='average',metric='precomputed')\n",
    "    ag.fit(distances)\n",
    "\n",
    "    ag_labels = ag.labels_\n",
    "    if j != 1:\n",
    "        silhouette.append(silhouette_score(distances, ag_labels, metric='precomputed'))\n",
    "\n",
    "plt.figure(figsize=(14, 6))\n",
    "\n",
    "\n",
    "plt.plot(range(2, 15), silhouette[:], marker='o', markerfacecolor='red', markeredgecolor='black', markersize=5)\n",
    "plt.xlabel('Liczba klastrów k', labelpad=10, fontsize=12)\n",
    "plt.ylabel('Wartość Silhouette', labelpad=10, fontsize=12)\n",
    "plt.title('Współczynnik Silhouette', pad=20, fontsize=14)\n",
    "\n",
    "plt.show()"
   ],
   "outputs": [],
   "execution_count": null
  },
  {
   "cell_type": "markdown",
   "id": "228e96d7",
   "metadata": {
    "ExecuteTime": {
     "end_time": "2025-04-07T09:31:01.193465Z",
     "start_time": "2025-04-07T09:31:00.968168Z"
    }
   },
   "source": "#### Wybór liczby klastrów"
  },
  {
   "cell_type": "code",
   "id": "d206dc0d",
   "metadata": {},
   "source": [
    "agglomerative = AgglomerativeClustering(n_clusters=3, linkage='average', metric='precomputed')\n",
    "kprototypes = KPrototypes(n_clusters=3, random_state=42, init='random', n_init=10)\n",
    "agglomerative.fit(distances)\n",
    "kprototypes.fit(data, categorical=categorical_indices)\n",
    "\n",
    "agglomerative_labels = agglomerative.labels_\n",
    "kprototypes_labels = kprototypes.labels_"
   ],
   "outputs": [],
   "execution_count": null
  },
  {
   "cell_type": "markdown",
   "id": "ef6c7fc05d1139f9",
   "metadata": {
    "ExecuteTime": {
     "end_time": "2025-04-07T09:28:40.851903Z",
     "start_time": "2025-04-07T09:28:39.333483Z"
    }
   },
   "source": [
    "#### Współczynnik zarysu (ang. Silhouette coefficient)\n",
    "\n",
    "<b>Użyta implementacja z sklearn oblicza średnią wartości współczynnika zarysu.</b>\n",
    "\n",
    "Jest to metryka wskazująca jak dobrze punkt pasuje do klastra w którym się znajduje.\n",
    "\n",
    "Interpretacja wyników:\n",
    "- silhouette = 1 -> najlepsza wartość\n",
    "- silhouette = 0 -> nakładające się klastry\n",
    "- silhouette = -1 -> najgorsza wartość\n",
    "\n",
    "Jeśli wartości są ujemne, oznacza to błąd w przyporządkowaniu obserwacji do klastra. Inny klaster jest lepszy."
   ]
  },
  {
   "cell_type": "code",
   "id": "5a698902",
   "metadata": {},
   "source": [
    "silhouette = (silhouette_score(distances, agglomerative_labels, metric='precomputed'), silhouette_score(distances, kprototypes_labels, metric='precomputed'))\n",
    "silhouette"
   ],
   "outputs": [],
   "execution_count": null
  },
  {
   "cell_type": "markdown",
   "id": "7ee39caf347b9d2f",
   "metadata": {
    "ExecuteTime": {
     "end_time": "2025-04-07T09:28:40.877259Z",
     "start_time": "2025-04-07T09:28:40.868258Z"
    }
   },
   "source": [
    "#### Macierz kontyngencji dla KPrototypes, AgglomerativeClustering\n",
    "\n",
    "Pokazuje jak często występują różne kombinacje wartości dwóch zmiennych kategorycznych. Pomaga ocenić, czy algorytm poprawnie przypisał rzeczywiste próbki do otrzymanych grup."
   ]
  },
  {
   "cell_type": "code",
   "id": "aa42398900fe1bf6",
   "metadata": {},
   "source": [
    "fig, ax = plt.subplots(ncols=2, figsize=(12, 10))\n",
    "\n",
    "contingency_mat = [contingency_matrix(status, agglomerative_labels), contingency_matrix(status, kprototypes_labels)]\n",
    "titles = ['dla metody aglomeracyjnej', 'dla metody KPrototypes']\n",
    "\n",
    "for i, mat in enumerate(contingency_mat):\n",
    "    ax[i].imshow(\n",
    "        X=mat,\n",
    "        cmap='Accent',\n",
    "    )\n",
    "    ax[i].set_xlabel('Przewidziane etykiety', fontsize=12, labelpad=10)\n",
    "    ax[i].set_ylabel('Rzeczywiste etykiety', fontsize=12, labelpad=10)\n",
    "    ax[i].set_xticks(ticks=np.arange(mat.shape[0]), labels=[0, 1, 2])\n",
    "    ax[i].set_yticks(ticks=np.arange(mat.shape[0]), labels=status_encoder.classes_)\n",
    "    ax[i].set_title(f'Macierz kontyngencji {titles[i]}', fontsize=14, pad=20)\n",
    "    ax[i].grid(False)\n",
    "\n",
    "    for j in range(mat.shape[0]):\n",
    "        for k in range(mat.shape[1]):\n",
    "            ax[i].text(k, j, mat[j, k], ha='center', va='center', color='white', fontsize=12)"
   ],
   "outputs": [],
   "execution_count": null
  },
  {
   "cell_type": "markdown",
   "id": "2a0fc53a46d8f3d5",
   "metadata": {
    "ExecuteTime": {
     "end_time": "2025-04-07T09:28:41.094487Z",
     "start_time": "2025-04-07T09:28:40.895678Z"
    }
   },
   "source": [
    "#### Indeks Randa\n",
    "\n",
    "Indeks Randa jest miarą służącą do ewaluacji jakości grupowania (klastrowania) poprzez porównanie dwóch różnych podziałów tego samego zbioru danych. Jest to popularna metoda oceny zgodności między algorytmicznym grupowaniem a znaną klasyfikacją referencyjną.\n",
    "\n",
    "Główne cechy Indeksu Randa:\n",
    "\n",
    "- Mierzy podobieństwo między dwoma grupowaniami na podstawie par obiektów\n",
    "- Wartość zawiera się w przedziale [0,1], gdzie 1 oznacza całkowitą zgodność grupowań\n",
    "- Uwzględnia zarówno pary obiektów przypisane do tej samej grupy, jak i pary przypisane do różnych grup"
   ]
  },
  {
   "cell_type": "code",
   "id": "1804cc2a79f41958",
   "metadata": {},
   "source": [
    "rand = (rand_score(status, agglomerative_labels), rand_score(status, kprototypes_labels))\n",
    "\n",
    "rand"
   ],
   "outputs": [],
   "execution_count": null
  },
  {
   "cell_type": "markdown",
   "id": "afa11fc24dd74a65",
   "metadata": {
    "ExecuteTime": {
     "end_time": "2025-04-07T09:28:41.115749Z",
     "start_time": "2025-04-07T09:28:41.110827Z"
    }
   },
   "source": [
    "#### Współczynnik wzajemnej informacji (ang. Mutual Information, MI)\n",
    "\n",
    "Zakres wartości: mi >= 0\n",
    "\n",
    "mi = 0 -> brak relacji miedzy obiema zmiennymi\n",
    "\n",
    "Im większy wynik tym silniejsza relacja.\n",
    "\n",
    "\n",
    "#### Znormalizowany MI\n",
    "\n",
    "Zakres wartości: 0 >= nmi <= 1\n",
    "\n",
    "mi = 0 -> brak relacji między obiema zmiennymi\n",
    "\n",
    "mi = 1 -> bardzo silna relacja między obiema zmiennymi"
   ]
  },
  {
   "cell_type": "code",
   "id": "c7e238bca29bab4d",
   "metadata": {},
   "source": [
    "hierarchical_mi = mutual_info_score(status, agglomerative_labels)\n",
    "hierarchical_nmi = normalized_mutual_info_score(status, agglomerative_labels)\n",
    "\n",
    "(hierarchical_mi, hierarchical_nmi)"
   ],
   "outputs": [],
   "execution_count": null
  },
  {
   "cell_type": "code",
   "id": "c27616d824378b41",
   "metadata": {},
   "source": [
    "kmeans_mi = mutual_info_score(status, kprototypes_labels)\n",
    "kmeans_nmi = normalized_mutual_info_score(status, kprototypes_labels)\n",
    "\n",
    "(kmeans_mi, kmeans_nmi)"
   ],
   "outputs": [],
   "execution_count": null
  },
  {
   "cell_type": "markdown",
   "id": "5c8596bea1e51a6f",
   "metadata": {
    "ExecuteTime": {
     "end_time": "2025-04-07T09:28:41.167408Z",
     "start_time": "2025-04-07T09:28:41.162169Z"
    }
   },
   "source": "#### Podział wartości zmiennych według grup zwróconych przez KPrototypes"
  },
  {
   "cell_type": "code",
   "id": "10f2760580cd3e62",
   "metadata": {},
   "source": [
    "data['Status'] = kprototypes_labels\n",
    "final_columns = number_columns.values\n",
    "final_columns = np.append(final_columns, 'Status')\n",
    "\n",
    "plt.figure(figsize=(15, 10))\n",
    "sns.pairplot(data[final_columns], hue='Status', palette='viridis')\n",
    "plt.tight_layout()\n",
    "plt.show()"
   ],
   "outputs": [],
   "execution_count": null
  },
  {
   "cell_type": "markdown",
   "id": "1b947148c5d5c7c2",
   "metadata": {
    "ExecuteTime": {
     "end_time": "2025-04-07T09:28:56.175870Z",
     "start_time": "2025-04-07T09:28:41.184401Z"
    }
   },
   "source": [
    "#### Podział wartości zmiennych według grup zwróconych przez AgglomerativeClustering"
   ]
  },
  {
   "cell_type": "code",
   "id": "adcb034e8f4e8a5c",
   "metadata": {},
   "source": [
    "data['Status'] = agglomerative_labels\n",
    "\n",
    "plt.figure(figsize=(15, 10))\n",
    "sns.pairplot(data[final_columns], hue='Status', palette='viridis')\n",
    "plt.tight_layout()\n",
    "plt.show()"
   ],
   "outputs": [],
   "execution_count": null
  },
  {
   "cell_type": "markdown",
   "id": "57203fad494ed12a",
   "metadata": {
    "ExecuteTime": {
     "end_time": "2025-04-07T09:29:11.404237Z",
     "start_time": "2025-04-07T09:28:56.206144Z"
    }
   },
   "source": [
    "#### Podział wartości zmiennych według rzeczywistych etykiet klas"
   ]
  },
  {
   "cell_type": "code",
   "id": "947cb553318d134a",
   "metadata": {},
   "source": [
    "data['Status'] = status\n",
    "\n",
    "plt.figure(figsize=(15, 10))\n",
    "sns.pairplot(data[final_columns], hue='Status', palette='viridis')\n",
    "plt.tight_layout()\n",
    "plt.show()"
   ],
   "outputs": [],
   "execution_count": null
  }
 ],
 "metadata": {
  "kernelspec": {
   "display_name": "torch",
   "language": "python",
   "name": "python3"
  },
  "language_info": {
   "codemirror_mode": {
    "name": "ipython",
    "version": 3
   },
   "file_extension": ".py",
   "mimetype": "text/x-python",
   "name": "python",
   "nbconvert_exporter": "python",
   "pygments_lexer": "ipython3",
   "version": "3.9.7"
  }
 },
 "nbformat": 4,
 "nbformat_minor": 5
}
